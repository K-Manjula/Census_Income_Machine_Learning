{
 "cells": [
  {
   "cell_type": "code",
   "execution_count": 2,
   "id": "ad4c91b1-3a1f-441d-9d84-6bc7fe457b1f",
   "metadata": {},
   "outputs": [
    {
     "name": "stdout",
     "output_type": "stream",
     "text": [
      "Requirement already satisfied: ucimlrepo in c:\\users\\19736\\anaconda3\\lib\\site-packages (0.0.7)\n",
      "Requirement already satisfied: pandas>=1.0.0 in c:\\users\\19736\\anaconda3\\lib\\site-packages (from ucimlrepo) (2.1.4)\n",
      "Requirement already satisfied: certifi>=2020.12.5 in c:\\users\\19736\\anaconda3\\lib\\site-packages (from ucimlrepo) (2025.4.26)\n",
      "Requirement already satisfied: numpy<2,>=1.23.2 in c:\\users\\19736\\anaconda3\\lib\\site-packages (from pandas>=1.0.0->ucimlrepo) (1.26.4)\n",
      "Requirement already satisfied: python-dateutil>=2.8.2 in c:\\users\\19736\\anaconda3\\lib\\site-packages (from pandas>=1.0.0->ucimlrepo) (2.8.2)\n",
      "Requirement already satisfied: pytz>=2020.1 in c:\\users\\19736\\anaconda3\\lib\\site-packages (from pandas>=1.0.0->ucimlrepo) (2023.3.post1)\n",
      "Requirement already satisfied: tzdata>=2022.1 in c:\\users\\19736\\anaconda3\\lib\\site-packages (from pandas>=1.0.0->ucimlrepo) (2023.3)\n",
      "Requirement already satisfied: six>=1.5 in c:\\users\\19736\\anaconda3\\lib\\site-packages (from python-dateutil>=2.8.2->pandas>=1.0.0->ucimlrepo) (1.16.0)\n",
      "Note: you may need to restart the kernel to use updated packages.\n"
     ]
    }
   ],
   "source": [
    "pip install ucimlrepo\n"
   ]
  },
  {
   "cell_type": "code",
   "execution_count": 151,
   "id": "d874f4b7-5e6d-481f-8b6c-1a6b7bdd18fd",
   "metadata": {},
   "outputs": [
    {
     "name": "stdout",
     "output_type": "stream",
     "text": [
      "Collecting xgboost\n",
      "  Downloading xgboost-3.0.2-py3-none-win_amd64.whl.metadata (2.1 kB)\n",
      "Requirement already satisfied: numpy in c:\\users\\19736\\anaconda3\\lib\\site-packages (from xgboost) (1.26.4)\n",
      "Requirement already satisfied: scipy in c:\\users\\19736\\anaconda3\\lib\\site-packages (from xgboost) (1.11.4)\n",
      "Downloading xgboost-3.0.2-py3-none-win_amd64.whl (150.0 MB)\n",
      "   ---------------------------------------- 0.0/150.0 MB ? eta -:--:--\n",
      "   ---------------------------------------- 0.0/150.0 MB ? eta -:--:--\n",
      "   ---------------------------------------- 0.1/150.0 MB 991.0 kB/s eta 0:02:32\n",
      "   ---------------------------------------- 0.3/150.0 MB 3.2 MB/s eta 0:00:47\n",
      "   ---------------------------------------- 0.6/150.0 MB 5.1 MB/s eta 0:00:30\n",
      "   ---------------------------------------- 1.2/150.0 MB 7.1 MB/s eta 0:00:21\n",
      "    --------------------------------------- 2.2/150.0 MB 9.3 MB/s eta 0:00:16\n",
      "    --------------------------------------- 2.7/150.0 MB 10.3 MB/s eta 0:00:15\n",
      "    --------------------------------------- 3.3/150.0 MB 10.4 MB/s eta 0:00:15\n",
      "    --------------------------------------- 3.7/150.0 MB 10.7 MB/s eta 0:00:14\n",
      "   - -------------------------------------- 4.4/150.0 MB 11.3 MB/s eta 0:00:13\n",
      "   - -------------------------------------- 4.9/150.0 MB 12.0 MB/s eta 0:00:13\n",
      "   - -------------------------------------- 5.9/150.0 MB 12.2 MB/s eta 0:00:12\n",
      "   - -------------------------------------- 6.5/150.0 MB 12.3 MB/s eta 0:00:12\n",
      "   - -------------------------------------- 7.2/150.0 MB 12.9 MB/s eta 0:00:12\n",
      "   -- ------------------------------------- 7.9/150.0 MB 13.0 MB/s eta 0:00:11\n",
      "   -- ------------------------------------- 8.6/150.0 MB 13.2 MB/s eta 0:00:11\n",
      "   -- ------------------------------------- 9.9/150.0 MB 14.4 MB/s eta 0:00:10\n",
      "   -- ------------------------------------- 10.6/150.0 MB 16.0 MB/s eta 0:00:09\n",
      "   --- ------------------------------------ 11.3/150.0 MB 16.4 MB/s eta 0:00:09\n",
      "   --- ------------------------------------ 11.8/150.0 MB 16.8 MB/s eta 0:00:09\n",
      "   --- ------------------------------------ 13.2/150.0 MB 17.3 MB/s eta 0:00:08\n",
      "   --- ------------------------------------ 14.2/150.0 MB 18.2 MB/s eta 0:00:08\n",
      "   --- ------------------------------------ 14.8/150.0 MB 18.2 MB/s eta 0:00:08\n",
      "   ---- ----------------------------------- 15.7/150.0 MB 18.7 MB/s eta 0:00:08\n",
      "   ---- ----------------------------------- 16.4/150.0 MB 19.2 MB/s eta 0:00:07\n",
      "   ---- ----------------------------------- 17.0/150.0 MB 18.2 MB/s eta 0:00:08\n",
      "   ---- ----------------------------------- 17.9/150.0 MB 18.2 MB/s eta 0:00:08\n",
      "   ---- ----------------------------------- 18.7/150.0 MB 18.7 MB/s eta 0:00:08\n",
      "   ----- ---------------------------------- 18.9/150.0 MB 17.2 MB/s eta 0:00:08\n",
      "   ----- ---------------------------------- 19.7/150.0 MB 17.2 MB/s eta 0:00:08\n",
      "   ----- ---------------------------------- 19.7/150.0 MB 16.4 MB/s eta 0:00:08\n",
      "   ----- ---------------------------------- 20.3/150.0 MB 16.4 MB/s eta 0:00:08\n",
      "   ----- ---------------------------------- 20.3/150.0 MB 16.4 MB/s eta 0:00:08\n",
      "   ----- ---------------------------------- 20.8/150.0 MB 14.9 MB/s eta 0:00:09\n",
      "   ----- ---------------------------------- 21.0/150.0 MB 14.6 MB/s eta 0:00:09\n",
      "   ----- ---------------------------------- 21.5/150.0 MB 13.6 MB/s eta 0:00:10\n",
      "   ----- ---------------------------------- 21.8/150.0 MB 13.6 MB/s eta 0:00:10\n",
      "   ----- ---------------------------------- 22.0/150.0 MB 13.1 MB/s eta 0:00:10\n",
      "   ------ --------------------------------- 22.8/150.0 MB 12.6 MB/s eta 0:00:11\n",
      "   ------ --------------------------------- 23.1/150.0 MB 12.6 MB/s eta 0:00:11\n",
      "   ------ --------------------------------- 23.5/150.0 MB 12.1 MB/s eta 0:00:11\n",
      "   ------ --------------------------------- 24.0/150.0 MB 12.1 MB/s eta 0:00:11\n",
      "   ------ --------------------------------- 24.1/150.0 MB 11.7 MB/s eta 0:00:11\n",
      "   ------ --------------------------------- 24.5/150.0 MB 10.9 MB/s eta 0:00:12\n",
      "   ------ --------------------------------- 24.9/150.0 MB 10.9 MB/s eta 0:00:12\n",
      "   ------ --------------------------------- 24.9/150.0 MB 10.9 MB/s eta 0:00:12\n",
      "   ------ --------------------------------- 25.1/150.0 MB 10.2 MB/s eta 0:00:13\n",
      "   ------ --------------------------------- 25.2/150.0 MB 9.8 MB/s eta 0:00:13\n",
      "   ------ --------------------------------- 25.2/150.0 MB 9.5 MB/s eta 0:00:14\n",
      "   ------ --------------------------------- 25.4/150.0 MB 8.8 MB/s eta 0:00:15\n",
      "   ------ --------------------------------- 25.5/150.0 MB 8.8 MB/s eta 0:00:15\n",
      "   ------ --------------------------------- 25.6/150.0 MB 8.4 MB/s eta 0:00:15\n",
      "   ------ --------------------------------- 25.7/150.0 MB 8.0 MB/s eta 0:00:16\n",
      "   ------ --------------------------------- 25.7/150.0 MB 8.0 MB/s eta 0:00:16\n",
      "   ------ --------------------------------- 25.7/150.0 MB 8.0 MB/s eta 0:00:16\n",
      "   ------ --------------------------------- 25.8/150.0 MB 7.4 MB/s eta 0:00:17\n",
      "   ------ --------------------------------- 26.0/150.0 MB 7.0 MB/s eta 0:00:18\n",
      "   ------ --------------------------------- 26.1/150.0 MB 7.0 MB/s eta 0:00:18\n",
      "   ------ --------------------------------- 26.1/150.0 MB 7.0 MB/s eta 0:00:18\n",
      "   ------ --------------------------------- 26.2/150.0 MB 6.8 MB/s eta 0:00:19\n",
      "   ------- -------------------------------- 26.5/150.0 MB 6.5 MB/s eta 0:00:20\n",
      "   ------- -------------------------------- 26.5/150.0 MB 6.5 MB/s eta 0:00:20\n",
      "   ------- -------------------------------- 26.8/150.0 MB 6.3 MB/s eta 0:00:20\n",
      "   ------- -------------------------------- 26.8/150.0 MB 6.2 MB/s eta 0:00:20\n",
      "   ------- -------------------------------- 27.0/150.0 MB 6.0 MB/s eta 0:00:21\n",
      "   ------- -------------------------------- 27.4/150.0 MB 6.0 MB/s eta 0:00:21\n",
      "   ------- -------------------------------- 27.7/150.0 MB 5.8 MB/s eta 0:00:22\n",
      "   ------- -------------------------------- 27.9/150.0 MB 5.7 MB/s eta 0:00:22\n",
      "   ------- -------------------------------- 28.4/150.0 MB 5.6 MB/s eta 0:00:22\n",
      "   ------- -------------------------------- 29.0/150.0 MB 5.7 MB/s eta 0:00:22\n",
      "   ------- -------------------------------- 29.5/150.0 MB 5.6 MB/s eta 0:00:22\n",
      "   ------- -------------------------------- 29.9/150.0 MB 5.5 MB/s eta 0:00:22\n",
      "   -------- ------------------------------- 30.3/150.0 MB 5.6 MB/s eta 0:00:22\n",
      "   -------- ------------------------------- 30.7/150.0 MB 5.7 MB/s eta 0:00:21\n",
      "   -------- ------------------------------- 31.2/150.0 MB 5.7 MB/s eta 0:00:21\n",
      "   -------- ------------------------------- 31.5/150.0 MB 5.7 MB/s eta 0:00:21\n",
      "   -------- ------------------------------- 31.9/150.0 MB 5.6 MB/s eta 0:00:21\n",
      "   -------- ------------------------------- 32.2/150.0 MB 5.8 MB/s eta 0:00:21\n",
      "   -------- ------------------------------- 32.6/150.0 MB 5.6 MB/s eta 0:00:21\n",
      "   -------- ------------------------------- 33.0/150.0 MB 5.6 MB/s eta 0:00:21\n",
      "   -------- ------------------------------- 33.4/150.0 MB 5.6 MB/s eta 0:00:21\n",
      "   -------- ------------------------------- 33.7/150.0 MB 5.5 MB/s eta 0:00:21\n",
      "   --------- ------------------------------ 34.1/150.0 MB 5.5 MB/s eta 0:00:22\n",
      "   --------- ------------------------------ 34.5/150.0 MB 5.7 MB/s eta 0:00:21\n",
      "   --------- ------------------------------ 35.0/150.0 MB 5.5 MB/s eta 0:00:21\n",
      "   --------- ------------------------------ 35.3/150.0 MB 5.8 MB/s eta 0:00:20\n",
      "   --------- ------------------------------ 35.8/150.0 MB 6.4 MB/s eta 0:00:18\n",
      "   --------- ------------------------------ 36.1/150.0 MB 7.3 MB/s eta 0:00:16\n",
      "   --------- ------------------------------ 36.6/150.0 MB 7.9 MB/s eta 0:00:15\n",
      "   --------- ------------------------------ 36.9/150.0 MB 8.0 MB/s eta 0:00:15\n",
      "   --------- ------------------------------ 37.3/150.0 MB 8.6 MB/s eta 0:00:14\n",
      "   ---------- ----------------------------- 37.7/150.0 MB 8.6 MB/s eta 0:00:14\n",
      "   ---------- ----------------------------- 38.2/150.0 MB 8.7 MB/s eta 0:00:13\n",
      "   ---------- ----------------------------- 38.6/150.0 MB 8.7 MB/s eta 0:00:13\n",
      "   ---------- ----------------------------- 38.9/150.0 MB 8.6 MB/s eta 0:00:13\n",
      "   ---------- ----------------------------- 39.2/150.0 MB 8.4 MB/s eta 0:00:14\n",
      "   ---------- ----------------------------- 39.6/150.0 MB 8.3 MB/s eta 0:00:14\n",
      "   ---------- ----------------------------- 40.0/150.0 MB 8.4 MB/s eta 0:00:14\n",
      "   ---------- ----------------------------- 40.0/150.0 MB 8.3 MB/s eta 0:00:14\n",
      "   ---------- ----------------------------- 40.5/150.0 MB 8.3 MB/s eta 0:00:14\n",
      "   ---------- ----------------------------- 41.0/150.0 MB 8.3 MB/s eta 0:00:14\n",
      "   ----------- ---------------------------- 41.3/150.0 MB 8.3 MB/s eta 0:00:14\n",
      "   ----------- ---------------------------- 41.7/150.0 MB 8.2 MB/s eta 0:00:14\n",
      "   ----------- ---------------------------- 42.1/150.0 MB 8.3 MB/s eta 0:00:14\n",
      "   ----------- ---------------------------- 42.4/150.0 MB 8.3 MB/s eta 0:00:13\n",
      "   ----------- ---------------------------- 42.8/150.0 MB 8.2 MB/s eta 0:00:14\n",
      "   ----------- ---------------------------- 43.3/150.0 MB 8.4 MB/s eta 0:00:13\n",
      "   ----------- ---------------------------- 43.5/150.0 MB 8.3 MB/s eta 0:00:13\n",
      "   ----------- ---------------------------- 43.9/150.0 MB 8.3 MB/s eta 0:00:13\n",
      "   ----------- ---------------------------- 44.3/150.0 MB 8.4 MB/s eta 0:00:13\n",
      "   ----------- ---------------------------- 44.8/150.0 MB 8.6 MB/s eta 0:00:13\n",
      "   ------------ --------------------------- 45.2/150.0 MB 8.6 MB/s eta 0:00:13\n",
      "   ------------ --------------------------- 45.6/150.0 MB 8.7 MB/s eta 0:00:12\n",
      "   ------------ --------------------------- 46.0/150.0 MB 8.6 MB/s eta 0:00:13\n",
      "   ------------ --------------------------- 47.0/150.0 MB 9.2 MB/s eta 0:00:12\n",
      "   ------------ --------------------------- 47.6/150.0 MB 9.5 MB/s eta 0:00:11\n",
      "   ------------ --------------------------- 48.1/150.0 MB 9.8 MB/s eta 0:00:11\n",
      "   ------------ --------------------------- 48.6/150.0 MB 10.1 MB/s eta 0:00:11\n",
      "   ------------- -------------------------- 49.7/150.0 MB 10.9 MB/s eta 0:00:10\n",
      "   ------------- -------------------------- 50.6/150.0 MB 12.1 MB/s eta 0:00:09\n",
      "   ------------- -------------------------- 51.2/150.0 MB 12.4 MB/s eta 0:00:08\n",
      "   -------------- ------------------------- 52.6/150.0 MB 13.9 MB/s eta 0:00:07\n",
      "   -------------- ------------------------- 52.6/150.0 MB 13.9 MB/s eta 0:00:07\n",
      "   -------------- ------------------------- 53.9/150.0 MB 15.2 MB/s eta 0:00:07\n",
      "   -------------- ------------------------- 54.7/150.0 MB 16.8 MB/s eta 0:00:06\n",
      "   -------------- ------------------------- 55.8/150.0 MB 17.2 MB/s eta 0:00:06\n",
      "   -------------- ------------------------- 56.1/150.0 MB 18.7 MB/s eta 0:00:06\n",
      "   --------------- ------------------------ 56.4/150.0 MB 17.7 MB/s eta 0:00:06\n",
      "   --------------- ------------------------ 57.4/150.0 MB 17.2 MB/s eta 0:00:06\n",
      "   --------------- ------------------------ 58.0/150.0 MB 17.3 MB/s eta 0:00:06\n",
      "   --------------- ------------------------ 59.2/150.0 MB 18.2 MB/s eta 0:00:05\n",
      "   --------------- ------------------------ 59.7/150.0 MB 16.8 MB/s eta 0:00:06\n",
      "   ---------------- ----------------------- 60.3/150.0 MB 17.3 MB/s eta 0:00:06\n",
      "   ---------------- ----------------------- 60.8/150.0 MB 16.4 MB/s eta 0:00:06\n",
      "   ---------------- ----------------------- 61.8/150.0 MB 17.2 MB/s eta 0:00:06\n",
      "   ---------------- ----------------------- 62.1/150.0 MB 16.4 MB/s eta 0:00:06\n",
      "   ---------------- ----------------------- 62.1/150.0 MB 16.4 MB/s eta 0:00:06\n",
      "   ---------------- ----------------------- 63.6/150.0 MB 16.8 MB/s eta 0:00:06\n",
      "   ----------------- ---------------------- 64.2/150.0 MB 16.0 MB/s eta 0:00:06\n",
      "   ----------------- ---------------------- 65.0/150.0 MB 15.2 MB/s eta 0:00:06\n",
      "   ----------------- ---------------------- 65.6/150.0 MB 16.0 MB/s eta 0:00:06\n",
      "   ----------------- ---------------------- 66.1/150.0 MB 15.6 MB/s eta 0:00:06\n",
      "   ----------------- ---------------------- 66.9/150.0 MB 17.2 MB/s eta 0:00:05\n",
      "   ----------------- ---------------------- 67.2/150.0 MB 16.4 MB/s eta 0:00:06\n",
      "   ----------------- ---------------------- 67.2/150.0 MB 16.4 MB/s eta 0:00:06\n",
      "   ----------------- ---------------------- 67.2/150.0 MB 16.4 MB/s eta 0:00:06\n",
      "   ----------------- ---------------------- 67.2/150.0 MB 16.4 MB/s eta 0:00:06\n",
      "   ----------------- ---------------------- 67.2/150.0 MB 16.4 MB/s eta 0:00:06\n",
      "   ----------------- ---------------------- 67.2/150.0 MB 16.4 MB/s eta 0:00:06\n",
      "   ----------------- ---------------------- 67.2/150.0 MB 16.4 MB/s eta 0:00:06\n",
      "   ------------------ --------------------- 71.1/150.0 MB 15.6 MB/s eta 0:00:06\n",
      "   ------------------- -------------------- 71.7/150.0 MB 14.6 MB/s eta 0:00:06\n",
      "   ------------------- -------------------- 71.9/150.0 MB 13.9 MB/s eta 0:00:06\n",
      "   ------------------- -------------------- 72.6/150.0 MB 15.6 MB/s eta 0:00:05\n",
      "   ------------------- -------------------- 73.1/150.0 MB 14.2 MB/s eta 0:00:06\n",
      "   ------------------- -------------------- 73.5/150.0 MB 13.9 MB/s eta 0:00:06\n",
      "   ------------------- -------------------- 74.4/150.0 MB 13.6 MB/s eta 0:00:06\n",
      "   ------------------- -------------------- 74.7/150.0 MB 14.2 MB/s eta 0:00:06\n",
      "   -------------------- ------------------- 75.6/150.0 MB 13.4 MB/s eta 0:00:06\n",
      "   -------------------- ------------------- 76.7/150.0 MB 14.2 MB/s eta 0:00:06\n",
      "   -------------------- ------------------- 77.4/150.0 MB 13.6 MB/s eta 0:00:06\n",
      "   -------------------- ------------------- 77.9/150.0 MB 19.9 MB/s eta 0:00:04\n",
      "   -------------------- ------------------- 77.9/150.0 MB 19.9 MB/s eta 0:00:04\n",
      "   -------------------- ------------------- 77.9/150.0 MB 19.9 MB/s eta 0:00:04\n",
      "   --------------------- ------------------ 80.2/150.0 MB 15.6 MB/s eta 0:00:05\n",
      "   --------------------- ------------------ 80.7/150.0 MB 14.9 MB/s eta 0:00:05\n",
      "   --------------------- ------------------ 81.4/150.0 MB 14.9 MB/s eta 0:00:05\n",
      "   --------------------- ------------------ 81.8/150.0 MB 14.9 MB/s eta 0:00:05\n",
      "   --------------------- ------------------ 82.4/150.0 MB 15.2 MB/s eta 0:00:05\n",
      "   ---------------------- ----------------- 83.6/150.0 MB 16.0 MB/s eta 0:00:05\n",
      "   ---------------------- ----------------- 84.1/150.0 MB 16.0 MB/s eta 0:00:05\n",
      "   ---------------------- ----------------- 84.7/150.0 MB 16.0 MB/s eta 0:00:05\n",
      "   ---------------------- ----------------- 85.0/150.0 MB 16.4 MB/s eta 0:00:04\n",
      "   ---------------------- ----------------- 86.1/150.0 MB 15.6 MB/s eta 0:00:05\n",
      "   ----------------------- ---------------- 86.8/150.0 MB 15.2 MB/s eta 0:00:05\n",
      "   ----------------------- ---------------- 87.3/150.0 MB 15.6 MB/s eta 0:00:05\n",
      "   ----------------------- ---------------- 87.8/150.0 MB 15.2 MB/s eta 0:00:05\n",
      "   ----------------------- ---------------- 87.8/150.0 MB 15.2 MB/s eta 0:00:05\n",
      "   ----------------------- ---------------- 89.4/150.0 MB 16.4 MB/s eta 0:00:04\n",
      "   ----------------------- ---------------- 89.9/150.0 MB 16.0 MB/s eta 0:00:04\n",
      "   ------------------------ --------------- 90.6/150.0 MB 16.0 MB/s eta 0:00:04\n",
      "   ------------------------ --------------- 91.4/150.0 MB 16.0 MB/s eta 0:00:04\n",
      "   ------------------------ --------------- 92.1/150.0 MB 16.8 MB/s eta 0:00:04\n",
      "   ------------------------ --------------- 92.7/150.0 MB 16.8 MB/s eta 0:00:04\n",
      "   ------------------------- -------------- 93.8/150.0 MB 16.4 MB/s eta 0:00:04\n",
      "   ------------------------- -------------- 94.2/150.0 MB 16.0 MB/s eta 0:00:04\n",
      "   ------------------------- -------------- 95.1/150.0 MB 17.2 MB/s eta 0:00:04\n",
      "   ------------------------- -------------- 95.1/150.0 MB 17.2 MB/s eta 0:00:04\n",
      "   ------------------------- -------------- 96.2/150.0 MB 16.8 MB/s eta 0:00:04\n",
      "   ------------------------- -------------- 97.1/150.0 MB 16.4 MB/s eta 0:00:04\n",
      "   ------------------------- -------------- 97.3/150.0 MB 16.4 MB/s eta 0:00:04\n",
      "   -------------------------- ------------- 97.9/150.0 MB 16.4 MB/s eta 0:00:04\n",
      "   -------------------------- ------------- 97.9/150.0 MB 16.4 MB/s eta 0:00:04\n",
      "   -------------------------- ------------- 99.8/150.0 MB 16.4 MB/s eta 0:00:04\n",
      "   -------------------------- ------------ 100.2/150.0 MB 16.8 MB/s eta 0:00:03\n",
      "   -------------------------- ------------ 100.9/150.0 MB 16.8 MB/s eta 0:00:03\n",
      "   -------------------------- ------------ 101.4/150.0 MB 16.4 MB/s eta 0:00:03\n",
      "   -------------------------- ------------ 102.3/150.0 MB 16.8 MB/s eta 0:00:03\n",
      "   -------------------------- ------------ 103.1/150.0 MB 16.8 MB/s eta 0:00:03\n",
      "   -------------------------- ------------ 103.1/150.0 MB 16.8 MB/s eta 0:00:03\n",
      "   --------------------------- ----------- 103.9/150.0 MB 15.6 MB/s eta 0:00:03\n",
      "   --------------------------- ----------- 104.3/150.0 MB 14.9 MB/s eta 0:00:04\n",
      "   --------------------------- ----------- 106.3/150.0 MB 17.7 MB/s eta 0:00:03\n",
      "   --------------------------- ----------- 106.8/150.0 MB 18.2 MB/s eta 0:00:03\n",
      "   --------------------------- ----------- 107.6/150.0 MB 18.2 MB/s eta 0:00:03\n",
      "   ---------------------------- ---------- 108.5/150.0 MB 19.8 MB/s eta 0:00:03\n",
      "   ---------------------------- ---------- 108.9/150.0 MB 19.3 MB/s eta 0:00:03\n",
      "   ---------------------------- ---------- 108.9/150.0 MB 17.2 MB/s eta 0:00:03\n",
      "   ---------------------------- ---------- 110.4/150.0 MB 18.2 MB/s eta 0:00:03\n",
      "   ---------------------------- ---------- 111.1/150.0 MB 19.3 MB/s eta 0:00:03\n",
      "   ----------------------------- --------- 111.9/150.0 MB 18.7 MB/s eta 0:00:03\n",
      "   ----------------------------- --------- 112.5/150.0 MB 16.8 MB/s eta 0:00:03\n",
      "   ----------------------------- --------- 113.8/150.0 MB 19.3 MB/s eta 0:00:02\n",
      "   ----------------------------- --------- 114.7/150.0 MB 19.8 MB/s eta 0:00:02\n",
      "   ----------------------------- --------- 114.9/150.0 MB 19.2 MB/s eta 0:00:02\n",
      "   ------------------------------ -------- 115.6/150.0 MB 17.7 MB/s eta 0:00:02\n",
      "   ------------------------------ -------- 117.0/150.0 MB 17.2 MB/s eta 0:00:02\n",
      "   ------------------------------ -------- 117.7/150.0 MB 18.2 MB/s eta 0:00:02\n",
      "   ------------------------------ -------- 117.9/150.0 MB 16.8 MB/s eta 0:00:02\n",
      "   ------------------------------ -------- 119.1/150.0 MB 17.2 MB/s eta 0:00:02\n",
      "   ------------------------------- ------- 119.8/150.0 MB 17.7 MB/s eta 0:00:02\n",
      "   ------------------------------- ------- 120.5/150.0 MB 17.7 MB/s eta 0:00:02\n",
      "   ------------------------------- ------- 121.8/150.0 MB 18.2 MB/s eta 0:00:02\n",
      "   ------------------------------- ------- 122.6/150.0 MB 17.7 MB/s eta 0:00:02\n",
      "   -------------------------------- ------ 123.6/150.0 MB 18.7 MB/s eta 0:00:02\n",
      "   -------------------------------- ------ 124.8/150.0 MB 18.7 MB/s eta 0:00:02\n",
      "   -------------------------------- ------ 125.8/150.0 MB 19.8 MB/s eta 0:00:02\n",
      "   -------------------------------- ------ 126.3/150.0 MB 19.9 MB/s eta 0:00:02\n",
      "   -------------------------------- ------ 126.3/150.0 MB 19.9 MB/s eta 0:00:02\n",
      "   --------------------------------- ----- 128.5/150.0 MB 19.3 MB/s eta 0:00:02\n",
      "   --------------------------------- ----- 129.3/150.0 MB 19.3 MB/s eta 0:00:02\n",
      "   --------------------------------- ----- 130.3/150.0 MB 18.7 MB/s eta 0:00:02\n",
      "   ---------------------------------- ---- 131.1/150.0 MB 19.2 MB/s eta 0:00:01\n",
      "   ---------------------------------- ---- 131.2/150.0 MB 18.7 MB/s eta 0:00:02\n",
      "   ---------------------------------- ---- 131.7/150.0 MB 16.8 MB/s eta 0:00:02\n",
      "   ---------------------------------- ---- 131.7/150.0 MB 16.8 MB/s eta 0:00:02\n",
      "   ---------------------------------- ---- 131.7/150.0 MB 16.8 MB/s eta 0:00:02\n",
      "   ---------------------------------- ---- 132.9/150.0 MB 15.2 MB/s eta 0:00:02\n",
      "   ----------------------------------- --- 134.7/150.0 MB 16.0 MB/s eta 0:00:01\n",
      "   ----------------------------------- --- 135.2/150.0 MB 15.6 MB/s eta 0:00:01\n",
      "   ----------------------------------- --- 135.6/150.0 MB 15.2 MB/s eta 0:00:01\n",
      "   ----------------------------------- --- 136.7/150.0 MB 17.7 MB/s eta 0:00:01\n",
      "   ----------------------------------- --- 136.7/150.0 MB 17.7 MB/s eta 0:00:01\n",
      "   ----------------------------------- --- 137.4/150.0 MB 15.2 MB/s eta 0:00:01\n",
      "   ----------------------------------- --- 137.9/150.0 MB 14.6 MB/s eta 0:00:01\n",
      "   ------------------------------------ -- 139.6/150.0 MB 15.6 MB/s eta 0:00:01\n",
      "   ------------------------------------ -- 139.9/150.0 MB 15.2 MB/s eta 0:00:01\n",
      "   ------------------------------------ -- 140.9/150.0 MB 14.6 MB/s eta 0:00:01\n",
      "   ------------------------------------ -- 141.3/150.0 MB 14.2 MB/s eta 0:00:01\n",
      "   ------------------------------------ -- 142.1/150.0 MB 18.2 MB/s eta 0:00:01\n",
      "   ------------------------------------- - 142.7/150.0 MB 17.7 MB/s eta 0:00:01\n",
      "   ------------------------------------- - 143.7/150.0 MB 16.4 MB/s eta 0:00:01\n",
      "   ------------------------------------- - 144.4/150.0 MB 16.0 MB/s eta 0:00:01\n",
      "   ------------------------------------- - 144.7/150.0 MB 15.6 MB/s eta 0:00:01\n",
      "   ------------------------------------- - 145.7/150.0 MB 15.6 MB/s eta 0:00:01\n",
      "   ------------------------------------- - 145.7/150.0 MB 15.6 MB/s eta 0:00:01\n",
      "   --------------------------------------  146.4/150.0 MB 14.2 MB/s eta 0:00:01\n",
      "   --------------------------------------  147.2/150.0 MB 15.6 MB/s eta 0:00:01\n",
      "   --------------------------------------  149.0/150.0 MB 16.4 MB/s eta 0:00:01\n",
      "   --------------------------------------  149.4/150.0 MB 15.6 MB/s eta 0:00:01\n",
      "   --------------------------------------  150.0/150.0 MB 15.6 MB/s eta 0:00:01\n",
      "   --------------------------------------  150.0/150.0 MB 15.6 MB/s eta 0:00:01\n",
      "   --------------------------------------  150.0/150.0 MB 15.6 MB/s eta 0:00:01\n",
      "   --------------------------------------  150.0/150.0 MB 15.6 MB/s eta 0:00:01\n",
      "   --------------------------------------  150.0/150.0 MB 15.6 MB/s eta 0:00:01\n",
      "   --------------------------------------  150.0/150.0 MB 15.6 MB/s eta 0:00:01\n",
      "   --------------------------------------  150.0/150.0 MB 15.6 MB/s eta 0:00:01\n",
      "   --------------------------------------- 150.0/150.0 MB 10.4 MB/s eta 0:00:00\n",
      "Installing collected packages: xgboost\n",
      "Successfully installed xgboost-3.0.2\n",
      "Note: you may need to restart the kernel to use updated packages.\n"
     ]
    }
   ],
   "source": [
    "pip install xgboost"
   ]
  },
  {
   "cell_type": "code",
   "execution_count": 3,
   "id": "d19f2e6f-86df-4a47-add9-7e5f9b879e1f",
   "metadata": {},
   "outputs": [],
   "source": [
    "import numpy as np\n",
    "import pandas as pd\n",
    "import matplotlib.pyplot as plt\n",
    "import seaborn as sns\n",
    "import joblib\n",
    "from sklearn.tree import DecisionTreeClassifier\n",
    "from sklearn.naive_bayes import GaussianNB\n",
    "from sklearn.linear_model import LogisticRegression\n",
    "from sklearn.svm import SVC\n",
    "from sklearn.neighbors import KNeighborsClassifier\n",
    "from sklearn.model_selection import train_test_split\n",
    "from sklearn.metrics import accuracy_score, classification_report, confusion_matrix\n",
    "from sklearn.ensemble import RandomForestClassifier\n",
    "from sklearn.neural_network import MLPClassifier\n",
    "from xgboost import XGBClassifier\n",
    "from sklearn.metrics import roc_curve, auc, RocCurveDisplay\n",
    "from sklearn.model_selection import GridSearchCV"
   ]
  },
  {
   "cell_type": "code",
   "execution_count": 5,
   "id": "3e0eb5ce-836d-4970-9624-13159307b861",
   "metadata": {},
   "outputs": [
    {
     "name": "stdout",
     "output_type": "stream",
     "text": [
      "{'uci_id': 2, 'name': 'Adult', 'repository_url': 'https://archive.ics.uci.edu/dataset/2/adult', 'data_url': 'https://archive.ics.uci.edu/static/public/2/data.csv', 'abstract': 'Predict whether annual income of an individual exceeds $50K/yr based on census data. Also known as \"Census Income\" dataset. ', 'area': 'Social Science', 'tasks': ['Classification'], 'characteristics': ['Multivariate'], 'num_instances': 48842, 'num_features': 14, 'feature_types': ['Categorical', 'Integer'], 'demographics': ['Age', 'Income', 'Education Level', 'Other', 'Race', 'Sex'], 'target_col': ['income'], 'index_col': None, 'has_missing_values': 'yes', 'missing_values_symbol': 'NaN', 'year_of_dataset_creation': 1996, 'last_updated': 'Tue Sep 24 2024', 'dataset_doi': '10.24432/C5XW20', 'creators': ['Barry Becker', 'Ronny Kohavi'], 'intro_paper': None, 'additional_info': {'summary': \"Extraction was done by Barry Becker from the 1994 Census database.  A set of reasonably clean records was extracted using the following conditions: ((AAGE>16) && (AGI>100) && (AFNLWGT>1)&& (HRSWK>0))\\n\\nPrediction task is to determine whether a person's income is over $50,000 a year.\\n\", 'purpose': None, 'funded_by': None, 'instances_represent': None, 'recommended_data_splits': None, 'sensitive_data': None, 'preprocessing_description': None, 'variable_info': 'Listing of attributes:\\r\\n\\r\\n>50K, <=50K.\\r\\n\\r\\nage: continuous.\\r\\nworkclass: Private, Self-emp-not-inc, Self-emp-inc, Federal-gov, Local-gov, State-gov, Without-pay, Never-worked.\\r\\nfnlwgt: continuous.\\r\\neducation: Bachelors, Some-college, 11th, HS-grad, Prof-school, Assoc-acdm, Assoc-voc, 9th, 7th-8th, 12th, Masters, 1st-4th, 10th, Doctorate, 5th-6th, Preschool.\\r\\neducation-num: continuous.\\r\\nmarital-status: Married-civ-spouse, Divorced, Never-married, Separated, Widowed, Married-spouse-absent, Married-AF-spouse.\\r\\noccupation: Tech-support, Craft-repair, Other-service, Sales, Exec-managerial, Prof-specialty, Handlers-cleaners, Machine-op-inspct, Adm-clerical, Farming-fishing, Transport-moving, Priv-house-serv, Protective-serv, Armed-Forces.\\r\\nrelationship: Wife, Own-child, Husband, Not-in-family, Other-relative, Unmarried.\\r\\nrace: White, Asian-Pac-Islander, Amer-Indian-Eskimo, Other, Black.\\r\\nsex: Female, Male.\\r\\ncapital-gain: continuous.\\r\\ncapital-loss: continuous.\\r\\nhours-per-week: continuous.\\r\\nnative-country: United-States, Cambodia, England, Puerto-Rico, Canada, Germany, Outlying-US(Guam-USVI-etc), India, Japan, Greece, South, China, Cuba, Iran, Honduras, Philippines, Italy, Poland, Jamaica, Vietnam, Mexico, Portugal, Ireland, France, Dominican-Republic, Laos, Ecuador, Taiwan, Haiti, Columbia, Hungary, Guatemala, Nicaragua, Scotland, Thailand, Yugoslavia, El-Salvador, Trinadad&Tobago, Peru, Hong, Holand-Netherlands.', 'citation': None}}\n",
      "              name     role         type      demographic  \\\n",
      "0              age  Feature      Integer              Age   \n",
      "1        workclass  Feature  Categorical           Income   \n",
      "2           fnlwgt  Feature      Integer             None   \n",
      "3        education  Feature  Categorical  Education Level   \n",
      "4    education-num  Feature      Integer  Education Level   \n",
      "5   marital-status  Feature  Categorical            Other   \n",
      "6       occupation  Feature  Categorical            Other   \n",
      "7     relationship  Feature  Categorical            Other   \n",
      "8             race  Feature  Categorical             Race   \n",
      "9              sex  Feature       Binary              Sex   \n",
      "10    capital-gain  Feature      Integer             None   \n",
      "11    capital-loss  Feature      Integer             None   \n",
      "12  hours-per-week  Feature      Integer             None   \n",
      "13  native-country  Feature  Categorical            Other   \n",
      "14          income   Target       Binary           Income   \n",
      "\n",
      "                                          description units missing_values  \n",
      "0                                                 N/A  None             no  \n",
      "1   Private, Self-emp-not-inc, Self-emp-inc, Feder...  None            yes  \n",
      "2                                                None  None             no  \n",
      "3    Bachelors, Some-college, 11th, HS-grad, Prof-...  None             no  \n",
      "4                                                None  None             no  \n",
      "5   Married-civ-spouse, Divorced, Never-married, S...  None             no  \n",
      "6   Tech-support, Craft-repair, Other-service, Sal...  None            yes  \n",
      "7   Wife, Own-child, Husband, Not-in-family, Other...  None             no  \n",
      "8   White, Asian-Pac-Islander, Amer-Indian-Eskimo,...  None             no  \n",
      "9                                       Female, Male.  None             no  \n",
      "10                                               None  None             no  \n",
      "11                                               None  None             no  \n",
      "12                                               None  None             no  \n",
      "13  United-States, Cambodia, England, Puerto-Rico,...  None            yes  \n",
      "14                                       >50K, <=50K.  None             no  \n"
     ]
    }
   ],
   "source": [
    "from ucimlrepo import fetch_ucirepo \n",
    "  \n",
    "# fetch dataset \n",
    "adult = fetch_ucirepo(id=2) \n",
    "  \n",
    "# data (as pandas dataframes) \n",
    "X = adult.data.features \n",
    "y = adult.data.targets \n",
    "  \n",
    "# metadata \n",
    "print(adult.metadata) \n",
    "  \n",
    "# variable information \n",
    "print(adult.variables) "
   ]
  },
  {
   "cell_type": "code",
   "execution_count": 6,
   "id": "c3ac6d2c-d231-4850-9f0b-7b47e33685ba",
   "metadata": {},
   "outputs": [],
   "source": [
    "df=pd.DataFrame(adult.data.original)"
   ]
  },
  {
   "cell_type": "markdown",
   "id": "914830ae-3ae8-4b72-b484-2203e2bb09df",
   "metadata": {},
   "source": [
    "### Analyzing data frame features"
   ]
  },
  {
   "cell_type": "code",
   "execution_count": 24,
   "id": "b6810ba1-6bb4-4b0e-905c-70229e12cc0a",
   "metadata": {},
   "outputs": [
    {
     "data": {
      "text/html": [
       "<div>\n",
       "<style scoped>\n",
       "    .dataframe tbody tr th:only-of-type {\n",
       "        vertical-align: middle;\n",
       "    }\n",
       "\n",
       "    .dataframe tbody tr th {\n",
       "        vertical-align: top;\n",
       "    }\n",
       "\n",
       "    .dataframe thead th {\n",
       "        text-align: right;\n",
       "    }\n",
       "</style>\n",
       "<table border=\"1\" class=\"dataframe\">\n",
       "  <thead>\n",
       "    <tr style=\"text-align: right;\">\n",
       "      <th></th>\n",
       "      <th>count</th>\n",
       "      <th>mean</th>\n",
       "      <th>std</th>\n",
       "      <th>min</th>\n",
       "      <th>25%</th>\n",
       "      <th>50%</th>\n",
       "      <th>75%</th>\n",
       "      <th>max</th>\n",
       "    </tr>\n",
       "  </thead>\n",
       "  <tbody>\n",
       "    <tr>\n",
       "      <th>age</th>\n",
       "      <td>48842.0</td>\n",
       "      <td>38.643585</td>\n",
       "      <td>13.710510</td>\n",
       "      <td>17.0</td>\n",
       "      <td>28.0</td>\n",
       "      <td>37.0</td>\n",
       "      <td>48.0</td>\n",
       "      <td>90.0</td>\n",
       "    </tr>\n",
       "    <tr>\n",
       "      <th>fnlwgt</th>\n",
       "      <td>48842.0</td>\n",
       "      <td>189664.134597</td>\n",
       "      <td>105604.025423</td>\n",
       "      <td>12285.0</td>\n",
       "      <td>117550.5</td>\n",
       "      <td>178144.5</td>\n",
       "      <td>237642.0</td>\n",
       "      <td>1490400.0</td>\n",
       "    </tr>\n",
       "    <tr>\n",
       "      <th>education-num</th>\n",
       "      <td>48842.0</td>\n",
       "      <td>10.078089</td>\n",
       "      <td>2.570973</td>\n",
       "      <td>1.0</td>\n",
       "      <td>9.0</td>\n",
       "      <td>10.0</td>\n",
       "      <td>12.0</td>\n",
       "      <td>16.0</td>\n",
       "    </tr>\n",
       "    <tr>\n",
       "      <th>capital-gain</th>\n",
       "      <td>48842.0</td>\n",
       "      <td>1079.067626</td>\n",
       "      <td>7452.019058</td>\n",
       "      <td>0.0</td>\n",
       "      <td>0.0</td>\n",
       "      <td>0.0</td>\n",
       "      <td>0.0</td>\n",
       "      <td>99999.0</td>\n",
       "    </tr>\n",
       "    <tr>\n",
       "      <th>capital-loss</th>\n",
       "      <td>48842.0</td>\n",
       "      <td>87.502314</td>\n",
       "      <td>403.004552</td>\n",
       "      <td>0.0</td>\n",
       "      <td>0.0</td>\n",
       "      <td>0.0</td>\n",
       "      <td>0.0</td>\n",
       "      <td>4356.0</td>\n",
       "    </tr>\n",
       "    <tr>\n",
       "      <th>hours-per-week</th>\n",
       "      <td>48842.0</td>\n",
       "      <td>40.422382</td>\n",
       "      <td>12.391444</td>\n",
       "      <td>1.0</td>\n",
       "      <td>40.0</td>\n",
       "      <td>40.0</td>\n",
       "      <td>45.0</td>\n",
       "      <td>99.0</td>\n",
       "    </tr>\n",
       "  </tbody>\n",
       "</table>\n",
       "</div>"
      ],
      "text/plain": [
       "                  count           mean            std      min       25%  \\\n",
       "age             48842.0      38.643585      13.710510     17.0      28.0   \n",
       "fnlwgt          48842.0  189664.134597  105604.025423  12285.0  117550.5   \n",
       "education-num   48842.0      10.078089       2.570973      1.0       9.0   \n",
       "capital-gain    48842.0    1079.067626    7452.019058      0.0       0.0   \n",
       "capital-loss    48842.0      87.502314     403.004552      0.0       0.0   \n",
       "hours-per-week  48842.0      40.422382      12.391444      1.0      40.0   \n",
       "\n",
       "                     50%       75%        max  \n",
       "age                 37.0      48.0       90.0  \n",
       "fnlwgt          178144.5  237642.0  1490400.0  \n",
       "education-num       10.0      12.0       16.0  \n",
       "capital-gain         0.0       0.0    99999.0  \n",
       "capital-loss         0.0       0.0     4356.0  \n",
       "hours-per-week      40.0      45.0       99.0  "
      ]
     },
     "execution_count": 24,
     "metadata": {},
     "output_type": "execute_result"
    }
   ],
   "source": [
    "# df.describe   # describes descriptive statistics for numerical columns by default. \n",
    "df.describe().T  # summary statistics of describe in transpose view"
   ]
  },
  {
   "cell_type": "code",
   "execution_count": 25,
   "id": "04957a99-85f9-4c17-b6aa-60a04ea25cd7",
   "metadata": {},
   "outputs": [
    {
     "data": {
      "text/plain": [
       "['age',\n",
       " 'fnlwgt',\n",
       " 'education-num',\n",
       " 'capital-gain',\n",
       " 'capital-loss',\n",
       " 'hours-per-week']"
      ]
     },
     "execution_count": 25,
     "metadata": {},
     "output_type": "execute_result"
    }
   ],
   "source": [
    "#df.dtypes  #overview of each column's data types \n",
    "\n",
    "numerical_cols = df.select_dtypes(include=['int64']).columns.tolist()\n",
    "numerical_cols"
   ]
  },
  {
   "cell_type": "code",
   "execution_count": 26,
   "id": "b8a42df0-10c6-42bc-b776-db6076b48a06",
   "metadata": {},
   "outputs": [
    {
     "data": {
      "text/plain": [
       "['workclass',\n",
       " 'education',\n",
       " 'marital-status',\n",
       " 'occupation',\n",
       " 'relationship',\n",
       " 'race',\n",
       " 'sex',\n",
       " 'native-country',\n",
       " 'income']"
      ]
     },
     "execution_count": 26,
     "metadata": {},
     "output_type": "execute_result"
    }
   ],
   "source": [
    "categorical_cols = df.select_dtypes(include=['object']).columns.tolist()\n",
    "categorical_cols"
   ]
  },
  {
   "cell_type": "markdown",
   "id": "f957ab92-85e5-4b8c-9f32-84de5d5bcdf1",
   "metadata": {},
   "source": [
    "### Notes: Observations on Binary classification Problem\n",
    "Most of the values in the dataset are categorical variables.\n",
    "The target variable is income, which makes this a binary classification problem.\n",
    "The goal is to train a model to predict income class (low or high).\n",
    "There are only 2 possible outcomes, so it qualifies as binary classification.\n",
    "Features vs Target:\n",
    "Features (inputs): age, hours-per-week, etc.\n",
    "Target (output): income"
   ]
  },
  {
   "cell_type": "code",
   "execution_count": 27,
   "id": "b4254e0d-f2c0-4b73-a251-b32b493da825",
   "metadata": {},
   "outputs": [
    {
     "data": {
      "text/html": [
       "<div>\n",
       "<style scoped>\n",
       "    .dataframe tbody tr th:only-of-type {\n",
       "        vertical-align: middle;\n",
       "    }\n",
       "\n",
       "    .dataframe tbody tr th {\n",
       "        vertical-align: top;\n",
       "    }\n",
       "\n",
       "    .dataframe thead th {\n",
       "        text-align: right;\n",
       "    }\n",
       "</style>\n",
       "<table border=\"1\" class=\"dataframe\">\n",
       "  <thead>\n",
       "    <tr style=\"text-align: right;\">\n",
       "      <th></th>\n",
       "      <th>age</th>\n",
       "      <th>workclass</th>\n",
       "      <th>fnlwgt</th>\n",
       "      <th>education</th>\n",
       "      <th>education-num</th>\n",
       "      <th>marital-status</th>\n",
       "      <th>occupation</th>\n",
       "      <th>relationship</th>\n",
       "      <th>race</th>\n",
       "      <th>sex</th>\n",
       "      <th>capital-gain</th>\n",
       "      <th>capital-loss</th>\n",
       "      <th>hours-per-week</th>\n",
       "      <th>native-country</th>\n",
       "      <th>income</th>\n",
       "    </tr>\n",
       "  </thead>\n",
       "  <tbody>\n",
       "    <tr>\n",
       "      <th>5104</th>\n",
       "      <td>90</td>\n",
       "      <td>Private</td>\n",
       "      <td>52386</td>\n",
       "      <td>College</td>\n",
       "      <td>10</td>\n",
       "      <td>Never-married</td>\n",
       "      <td>Other-service</td>\n",
       "      <td>Other</td>\n",
       "      <td>Asian-Pac-Islander</td>\n",
       "      <td>Male</td>\n",
       "      <td>0</td>\n",
       "      <td>0</td>\n",
       "      <td>35</td>\n",
       "      <td>United-States</td>\n",
       "      <td>&lt;=50K</td>\n",
       "    </tr>\n",
       "    <tr>\n",
       "      <th>18725</th>\n",
       "      <td>90</td>\n",
       "      <td>gov</td>\n",
       "      <td>153602</td>\n",
       "      <td>College</td>\n",
       "      <td>9</td>\n",
       "      <td>Married-civ-spouse</td>\n",
       "      <td>Other-service</td>\n",
       "      <td>Husband</td>\n",
       "      <td>White</td>\n",
       "      <td>Male</td>\n",
       "      <td>6767</td>\n",
       "      <td>0</td>\n",
       "      <td>40</td>\n",
       "      <td>United-States</td>\n",
       "      <td>&lt;=50K</td>\n",
       "    </tr>\n",
       "    <tr>\n",
       "      <th>222</th>\n",
       "      <td>90</td>\n",
       "      <td>Private</td>\n",
       "      <td>51744</td>\n",
       "      <td>College</td>\n",
       "      <td>9</td>\n",
       "      <td>Never-married</td>\n",
       "      <td>Other-service</td>\n",
       "      <td>Other</td>\n",
       "      <td>Black</td>\n",
       "      <td>Male</td>\n",
       "      <td>0</td>\n",
       "      <td>2206</td>\n",
       "      <td>40</td>\n",
       "      <td>United-States</td>\n",
       "      <td>&lt;=50K</td>\n",
       "    </tr>\n",
       "    <tr>\n",
       "      <th>31696</th>\n",
       "      <td>90</td>\n",
       "      <td>Private</td>\n",
       "      <td>313986</td>\n",
       "      <td>College</td>\n",
       "      <td>9</td>\n",
       "      <td>Married-civ-spouse</td>\n",
       "      <td>Prof-specialty</td>\n",
       "      <td>Husband</td>\n",
       "      <td>White</td>\n",
       "      <td>Male</td>\n",
       "      <td>0</td>\n",
       "      <td>0</td>\n",
       "      <td>40</td>\n",
       "      <td>United-States</td>\n",
       "      <td>&gt;50K</td>\n",
       "    </tr>\n",
       "    <tr>\n",
       "      <th>6624</th>\n",
       "      <td>90</td>\n",
       "      <td>Private</td>\n",
       "      <td>313986</td>\n",
       "      <td>School</td>\n",
       "      <td>7</td>\n",
       "      <td>Married-civ-spouse</td>\n",
       "      <td>Craft-repair</td>\n",
       "      <td>Husband</td>\n",
       "      <td>White</td>\n",
       "      <td>Male</td>\n",
       "      <td>0</td>\n",
       "      <td>0</td>\n",
       "      <td>40</td>\n",
       "      <td>United-States</td>\n",
       "      <td>&lt;=50K</td>\n",
       "    </tr>\n",
       "  </tbody>\n",
       "</table>\n",
       "</div>"
      ],
      "text/plain": [
       "       age workclass  fnlwgt education  education-num      marital-status  \\\n",
       "5104    90   Private   52386   College             10       Never-married   \n",
       "18725   90       gov  153602   College              9  Married-civ-spouse   \n",
       "222     90   Private   51744   College              9       Never-married   \n",
       "31696   90   Private  313986   College              9  Married-civ-spouse   \n",
       "6624    90   Private  313986    School              7  Married-civ-spouse   \n",
       "\n",
       "           occupation relationship                race   sex  capital-gain  \\\n",
       "5104    Other-service        Other  Asian-Pac-Islander  Male             0   \n",
       "18725   Other-service      Husband               White  Male          6767   \n",
       "222     Other-service        Other               Black  Male             0   \n",
       "31696  Prof-specialty      Husband               White  Male             0   \n",
       "6624     Craft-repair      Husband               White  Male             0   \n",
       "\n",
       "       capital-loss  hours-per-week native-country income  \n",
       "5104              0              35  United-States  <=50K  \n",
       "18725             0              40  United-States  <=50K  \n",
       "222            2206              40  United-States  <=50K  \n",
       "31696             0              40  United-States   >50K  \n",
       "6624              0              40  United-States  <=50K  "
      ]
     },
     "execution_count": 27,
     "metadata": {},
     "output_type": "execute_result"
    }
   ],
   "source": [
    "df_sorted_age = df.sort_values(by='age', ascending=True)\n",
    "df_sorted_age.tail()"
   ]
  },
  {
   "cell_type": "code",
   "execution_count": 166,
   "id": "2b81b29e-7356-484a-ba3e-4b4553943b89",
   "metadata": {},
   "outputs": [
    {
     "data": {
      "text/html": [
       "<div>\n",
       "<style scoped>\n",
       "    .dataframe tbody tr th:only-of-type {\n",
       "        vertical-align: middle;\n",
       "    }\n",
       "\n",
       "    .dataframe tbody tr th {\n",
       "        vertical-align: top;\n",
       "    }\n",
       "\n",
       "    .dataframe thead th {\n",
       "        text-align: right;\n",
       "    }\n",
       "</style>\n",
       "<table border=\"1\" class=\"dataframe\">\n",
       "  <thead>\n",
       "    <tr style=\"text-align: right;\">\n",
       "      <th></th>\n",
       "      <th>age</th>\n",
       "      <th>workclass</th>\n",
       "      <th>fnlwgt</th>\n",
       "      <th>education</th>\n",
       "      <th>education-num</th>\n",
       "      <th>marital-status</th>\n",
       "      <th>occupation</th>\n",
       "      <th>relationship</th>\n",
       "      <th>race</th>\n",
       "      <th>sex</th>\n",
       "      <th>capital-gain</th>\n",
       "      <th>capital-loss</th>\n",
       "      <th>hours-per-week</th>\n",
       "      <th>native-country</th>\n",
       "      <th>income</th>\n",
       "    </tr>\n",
       "  </thead>\n",
       "  <tbody>\n",
       "    <tr>\n",
       "      <th>0</th>\n",
       "      <td>39</td>\n",
       "      <td>State-gov</td>\n",
       "      <td>77516</td>\n",
       "      <td>Bachelors</td>\n",
       "      <td>13</td>\n",
       "      <td>Never-married</td>\n",
       "      <td>Adm-clerical</td>\n",
       "      <td>Not-in-family</td>\n",
       "      <td>White</td>\n",
       "      <td>Male</td>\n",
       "      <td>2174</td>\n",
       "      <td>0</td>\n",
       "      <td>40</td>\n",
       "      <td>United-States</td>\n",
       "      <td>&lt;=50K</td>\n",
       "    </tr>\n",
       "    <tr>\n",
       "      <th>1</th>\n",
       "      <td>50</td>\n",
       "      <td>Self-emp-not-inc</td>\n",
       "      <td>83311</td>\n",
       "      <td>Bachelors</td>\n",
       "      <td>13</td>\n",
       "      <td>Married-civ-spouse</td>\n",
       "      <td>Exec-managerial</td>\n",
       "      <td>Husband</td>\n",
       "      <td>White</td>\n",
       "      <td>Male</td>\n",
       "      <td>0</td>\n",
       "      <td>0</td>\n",
       "      <td>13</td>\n",
       "      <td>United-States</td>\n",
       "      <td>&lt;=50K</td>\n",
       "    </tr>\n",
       "    <tr>\n",
       "      <th>2</th>\n",
       "      <td>38</td>\n",
       "      <td>Private</td>\n",
       "      <td>215646</td>\n",
       "      <td>HS-grad</td>\n",
       "      <td>9</td>\n",
       "      <td>Divorced</td>\n",
       "      <td>Handlers-cleaners</td>\n",
       "      <td>Not-in-family</td>\n",
       "      <td>White</td>\n",
       "      <td>Male</td>\n",
       "      <td>0</td>\n",
       "      <td>0</td>\n",
       "      <td>40</td>\n",
       "      <td>United-States</td>\n",
       "      <td>&lt;=50K</td>\n",
       "    </tr>\n",
       "    <tr>\n",
       "      <th>3</th>\n",
       "      <td>53</td>\n",
       "      <td>Private</td>\n",
       "      <td>234721</td>\n",
       "      <td>11th</td>\n",
       "      <td>7</td>\n",
       "      <td>Married-civ-spouse</td>\n",
       "      <td>Handlers-cleaners</td>\n",
       "      <td>Husband</td>\n",
       "      <td>Black</td>\n",
       "      <td>Male</td>\n",
       "      <td>0</td>\n",
       "      <td>0</td>\n",
       "      <td>40</td>\n",
       "      <td>United-States</td>\n",
       "      <td>&lt;=50K</td>\n",
       "    </tr>\n",
       "    <tr>\n",
       "      <th>4</th>\n",
       "      <td>28</td>\n",
       "      <td>Private</td>\n",
       "      <td>338409</td>\n",
       "      <td>Bachelors</td>\n",
       "      <td>13</td>\n",
       "      <td>Married-civ-spouse</td>\n",
       "      <td>Prof-specialty</td>\n",
       "      <td>Wife</td>\n",
       "      <td>Black</td>\n",
       "      <td>Female</td>\n",
       "      <td>0</td>\n",
       "      <td>0</td>\n",
       "      <td>40</td>\n",
       "      <td>Cuba</td>\n",
       "      <td>&lt;=50K</td>\n",
       "    </tr>\n",
       "  </tbody>\n",
       "</table>\n",
       "</div>"
      ],
      "text/plain": [
       "   age         workclass  fnlwgt  education  education-num  \\\n",
       "0   39         State-gov   77516  Bachelors             13   \n",
       "1   50  Self-emp-not-inc   83311  Bachelors             13   \n",
       "2   38           Private  215646    HS-grad              9   \n",
       "3   53           Private  234721       11th              7   \n",
       "4   28           Private  338409  Bachelors             13   \n",
       "\n",
       "       marital-status         occupation   relationship   race     sex  \\\n",
       "0       Never-married       Adm-clerical  Not-in-family  White    Male   \n",
       "1  Married-civ-spouse    Exec-managerial        Husband  White    Male   \n",
       "2            Divorced  Handlers-cleaners  Not-in-family  White    Male   \n",
       "3  Married-civ-spouse  Handlers-cleaners        Husband  Black    Male   \n",
       "4  Married-civ-spouse     Prof-specialty           Wife  Black  Female   \n",
       "\n",
       "   capital-gain  capital-loss  hours-per-week native-country income  \n",
       "0          2174             0              40  United-States  <=50K  \n",
       "1             0             0              13  United-States  <=50K  \n",
       "2             0             0              40  United-States  <=50K  \n",
       "3             0             0              40  United-States  <=50K  \n",
       "4             0             0              40           Cuba  <=50K  "
      ]
     },
     "execution_count": 166,
     "metadata": {},
     "output_type": "execute_result"
    }
   ],
   "source": [
    "df.head()"
   ]
  },
  {
   "cell_type": "markdown",
   "id": "df98dada-1dbf-4d07-a7b1-e03f03b28b7a",
   "metadata": {},
   "source": [
    "### Notes: Observations on Case studies whose data is missing yet target income is >=50k\n",
    "Record 31696 = workclass, occupation are '?' , capital-gain and capital-loss fields are '0'."
   ]
  },
  {
   "cell_type": "code",
   "execution_count": 91,
   "id": "98fedc14-58b0-4ba8-a3d7-60965d8b439c",
   "metadata": {},
   "outputs": [
    {
     "name": "stdout",
     "output_type": "stream",
     "text": [
      "age                 0\n",
      "workclass         963\n",
      "fnlwgt              0\n",
      "education           0\n",
      "education-num       0\n",
      "marital-status      0\n",
      "occupation        966\n",
      "relationship        0\n",
      "race                0\n",
      "sex                 0\n",
      "capital-gain        0\n",
      "capital-loss        0\n",
      "hours-per-week      0\n",
      "native-country    274\n",
      "income              0\n",
      "dtype: int64\n"
     ]
    }
   ],
   "source": [
    "print(df.isnull().sum())"
   ]
  },
  {
   "cell_type": "code",
   "execution_count": 93,
   "id": "1934d212-22c8-431b-8d00-baf5ba84963a",
   "metadata": {},
   "outputs": [
    {
     "name": "stdout",
     "output_type": "stream",
     "text": [
      "occupation\n",
      "Prof-specialty       6172\n",
      "Craft-repair         6112\n",
      "Exec-managerial      6086\n",
      "Adm-clerical         5611\n",
      "Sales                5504\n",
      "Other-service        4923\n",
      "Machine-op-inspct    3022\n",
      "Transport-moving     2355\n",
      "Handlers-cleaners    2072\n",
      "?                    1843\n",
      "Farming-fishing      1490\n",
      "Tech-support         1446\n",
      "Protective-serv       983\n",
      "Priv-house-serv       242\n",
      "Armed-Forces           15\n",
      "Name: count, dtype: int64\n"
     ]
    }
   ],
   "source": [
    "print(df['occupation'].value_counts())"
   ]
  },
  {
   "cell_type": "markdown",
   "id": "a48f6e64-1193-460a-a3ef-fa121bc5830b",
   "metadata": {},
   "source": [
    "Backup the dataset"
   ]
  },
  {
   "cell_type": "code",
   "execution_count": 7,
   "id": "139ed777-3133-469b-9851-73e2f0aae5de",
   "metadata": {},
   "outputs": [],
   "source": [
    "df_copy=df.copy()"
   ]
  },
  {
   "cell_type": "code",
   "execution_count": 8,
   "id": "3093bfad-7061-426b-a98f-e6ac78161c47",
   "metadata": {},
   "outputs": [
    {
     "name": "stdout",
     "output_type": "stream",
     "text": [
      "0    Private\n",
      "Name: workclass, dtype: object\n",
      "0    Prof-specialty\n",
      "Name: occupation, dtype: object\n",
      "0    United-States\n",
      "Name: native-country, dtype: object\n"
     ]
    }
   ],
   "source": [
    "m=df['workclass'].mode()\n",
    "print(m)\n",
    "o=df['occupation'].mode()\n",
    "print(o)\n",
    "n=df['native-country'].mode()\n",
    "print(n)"
   ]
  },
  {
   "cell_type": "code",
   "execution_count": null,
   "id": "dac0e6dd-c5de-418f-8957-1bb8fc6872dc",
   "metadata": {},
   "outputs": [],
   "source": [
    "### Data modeling\n",
    "We now proceed to an important part of our process — data modeling. Based on our analysis above, we will fill the missing values in our data, \n",
    "and group certain categories logically, to allow our model to learn better.\n",
    "\n",
    "Replacing missing values –\n",
    "We choose to replace the missing values with the mode of the data, i.e. the most frequently occurring values.\n",
    "Hence, we replace ‘?’ is ‘Workclass’ column by ‘Private’, ‘Occupation’ column by ‘Prof-speciality’ and ‘Native_country’ by ‘United_States’."
   ]
  },
  {
   "cell_type": "code",
   "execution_count": 9,
   "id": "bfa6470a-1464-4749-b7e6-8e9a0839d47c",
   "metadata": {},
   "outputs": [],
   "source": [
    "# filling the values replace  ‘?’ is ‘Workclass’ column by ‘Private’, ‘Occupation’ column by ‘Prof-speciality’ \n",
    "#and ‘Native_country’by ‘United_States’.\n",
    "df['workclass']=df['workclass'].replace('?','Private')\n",
    "df['occupation']=df['occupation'].replace('?','Prof-specialty')\n",
    "df['native-country']=df['native-country'].replace('?',' United-States')"
   ]
  },
  {
   "cell_type": "code",
   "execution_count": 55,
   "id": "e8866379-af1e-4eb2-875d-7a67abbc93c4",
   "metadata": {},
   "outputs": [
    {
     "name": "stdout",
     "output_type": "stream",
     "text": [
      "age                 0\n",
      "workclass         963\n",
      "fnlwgt              0\n",
      "education           0\n",
      "education-num       0\n",
      "marital-status      0\n",
      "occupation        966\n",
      "relationship        0\n",
      "race                0\n",
      "sex                 0\n",
      "capital-gain        0\n",
      "capital-loss        0\n",
      "hours-per-week      0\n",
      "native-country    274\n",
      "income              0\n",
      "dtype: int64\n"
     ]
    }
   ],
   "source": [
    "print(df.isnull().sum())"
   ]
  },
  {
   "cell_type": "code",
   "execution_count": 10,
   "id": "9a3ff50b-ce20-4d5b-86f3-49dcf6cc3c12",
   "metadata": {},
   "outputs": [],
   "source": [
    "df['workclass']=df['workclass'].fillna('Private')\n",
    "df['occupation']=df['occupation'].fillna('Prof-specialty')\n",
    "df['native-country']=df['native-country'].fillna('United-States')"
   ]
  },
  {
   "cell_type": "code",
   "execution_count": 11,
   "id": "6a6c01ee-1e7a-4c74-88d3-eef87fce606a",
   "metadata": {},
   "outputs": [
    {
     "name": "stdout",
     "output_type": "stream",
     "text": [
      "occupation\n",
      "Prof-specialty       8981\n",
      "Craft-repair         6112\n",
      "Exec-managerial      6086\n",
      "Adm-clerical         5611\n",
      "Sales                5504\n",
      "Other-service        4923\n",
      "Machine-op-inspct    3022\n",
      "Transport-moving     2355\n",
      "Handlers-cleaners    2072\n",
      "Farming-fishing      1490\n",
      "Tech-support         1446\n",
      "Protective-serv       983\n",
      "Priv-house-serv       242\n",
      "Armed-Forces           15\n",
      "Name: count, dtype: int64\n"
     ]
    }
   ],
   "source": [
    "print(df['occupation'].value_counts())"
   ]
  },
  {
   "cell_type": "code",
   "execution_count": 115,
   "id": "395d1ca7-bb5f-413d-8768-201f1fdf2e19",
   "metadata": {},
   "outputs": [
    {
     "name": "stdout",
     "output_type": "stream",
     "text": [
      "age               0\n",
      "workclass         0\n",
      "fnlwgt            0\n",
      "education         0\n",
      "education-num     0\n",
      "marital-status    0\n",
      "occupation        0\n",
      "relationship      0\n",
      "race              0\n",
      "sex               0\n",
      "capital-gain      0\n",
      "capital-loss      0\n",
      "hours-per-week    0\n",
      "native-country    0\n",
      "income            0\n",
      "dtype: int64\n"
     ]
    }
   ],
   "source": [
    "print(df.isnull().sum())"
   ]
  },
  {
   "cell_type": "code",
   "execution_count": 169,
   "id": "1547061c-5965-4b3a-b1ef-e3a1103b4d0d",
   "metadata": {},
   "outputs": [
    {
     "name": "stdout",
     "output_type": "stream",
     "text": [
      "['<=50K' '>50K' '<=50K.' '>50K.']\n"
     ]
    }
   ],
   "source": [
    "print(df['income'].unique())"
   ]
  },
  {
   "cell_type": "code",
   "execution_count": 13,
   "id": "b7095df8-ef73-4525-b8a0-f8c30fbf2bdb",
   "metadata": {},
   "outputs": [
    {
     "name": "stdout",
     "output_type": "stream",
     "text": [
      "['<=50K' '>50K']\n"
     ]
    }
   ],
   "source": [
    "df['income'] = df['income'].str.strip().str.replace('.', '', regex=False)\n",
    "print(df['income'].unique())"
   ]
  },
  {
   "cell_type": "code",
   "execution_count": 161,
   "id": "c1b2b1f1-391e-4faf-a978-b349ceed8317",
   "metadata": {},
   "outputs": [
    {
     "name": "stdout",
     "output_type": "stream",
     "text": [
      "income\n",
      "0    37155\n",
      "1    11687\n",
      "Name: count, dtype: int64\n"
     ]
    }
   ],
   "source": [
    "print(df['income'].value_counts())"
   ]
  },
  {
   "cell_type": "code",
   "execution_count": 14,
   "id": "3552dca9-d083-4145-a939-b6c228dd5fbf",
   "metadata": {},
   "outputs": [
    {
     "data": {
      "text/plain": [
       "age                  74\n",
       "workclass             8\n",
       "fnlwgt            28523\n",
       "education            16\n",
       "education-num        16\n",
       "marital-status        7\n",
       "occupation           14\n",
       "relationship          6\n",
       "race                  5\n",
       "sex                   2\n",
       "capital-gain        123\n",
       "capital-loss         99\n",
       "hours-per-week       96\n",
       "native-country       42\n",
       "income                2\n",
       "dtype: int64"
      ]
     },
     "execution_count": 14,
     "metadata": {},
     "output_type": "execute_result"
    }
   ],
   "source": [
    "unique_count = df.nunique()\n",
    "unique_count"
   ]
  },
  {
   "cell_type": "code",
   "execution_count": 15,
   "id": "48fe674e-2fc5-424b-b90e-ca6ca10842f0",
   "metadata": {},
   "outputs": [
    {
     "data": {
      "text/html": [
       "<div>\n",
       "<style scoped>\n",
       "    .dataframe tbody tr th:only-of-type {\n",
       "        vertical-align: middle;\n",
       "    }\n",
       "\n",
       "    .dataframe tbody tr th {\n",
       "        vertical-align: top;\n",
       "    }\n",
       "\n",
       "    .dataframe thead th {\n",
       "        text-align: right;\n",
       "    }\n",
       "</style>\n",
       "<table border=\"1\" class=\"dataframe\">\n",
       "  <thead>\n",
       "    <tr style=\"text-align: right;\">\n",
       "      <th></th>\n",
       "      <th>count</th>\n",
       "      <th>unique</th>\n",
       "      <th>top</th>\n",
       "      <th>freq</th>\n",
       "    </tr>\n",
       "  </thead>\n",
       "  <tbody>\n",
       "    <tr>\n",
       "      <th>workclass</th>\n",
       "      <td>48842</td>\n",
       "      <td>8</td>\n",
       "      <td>Private</td>\n",
       "      <td>36705</td>\n",
       "    </tr>\n",
       "    <tr>\n",
       "      <th>education</th>\n",
       "      <td>48842</td>\n",
       "      <td>16</td>\n",
       "      <td>HS-grad</td>\n",
       "      <td>15784</td>\n",
       "    </tr>\n",
       "    <tr>\n",
       "      <th>marital-status</th>\n",
       "      <td>48842</td>\n",
       "      <td>7</td>\n",
       "      <td>Married-civ-spouse</td>\n",
       "      <td>22379</td>\n",
       "    </tr>\n",
       "    <tr>\n",
       "      <th>occupation</th>\n",
       "      <td>48842</td>\n",
       "      <td>14</td>\n",
       "      <td>Prof-specialty</td>\n",
       "      <td>8981</td>\n",
       "    </tr>\n",
       "    <tr>\n",
       "      <th>relationship</th>\n",
       "      <td>48842</td>\n",
       "      <td>6</td>\n",
       "      <td>Husband</td>\n",
       "      <td>19716</td>\n",
       "    </tr>\n",
       "    <tr>\n",
       "      <th>race</th>\n",
       "      <td>48842</td>\n",
       "      <td>5</td>\n",
       "      <td>White</td>\n",
       "      <td>41762</td>\n",
       "    </tr>\n",
       "    <tr>\n",
       "      <th>sex</th>\n",
       "      <td>48842</td>\n",
       "      <td>2</td>\n",
       "      <td>Male</td>\n",
       "      <td>32650</td>\n",
       "    </tr>\n",
       "    <tr>\n",
       "      <th>native-country</th>\n",
       "      <td>48842</td>\n",
       "      <td>42</td>\n",
       "      <td>United-States</td>\n",
       "      <td>44106</td>\n",
       "    </tr>\n",
       "    <tr>\n",
       "      <th>income</th>\n",
       "      <td>48842</td>\n",
       "      <td>2</td>\n",
       "      <td>&lt;=50K</td>\n",
       "      <td>37155</td>\n",
       "    </tr>\n",
       "  </tbody>\n",
       "</table>\n",
       "</div>"
      ],
      "text/plain": [
       "                count unique                 top   freq\n",
       "workclass       48842      8             Private  36705\n",
       "education       48842     16             HS-grad  15784\n",
       "marital-status  48842      7  Married-civ-spouse  22379\n",
       "occupation      48842     14      Prof-specialty   8981\n",
       "relationship    48842      6             Husband  19716\n",
       "race            48842      5               White  41762\n",
       "sex             48842      2                Male  32650\n",
       "native-country  48842     42       United-States  44106\n",
       "income          48842      2               <=50K  37155"
      ]
     },
     "execution_count": 15,
     "metadata": {},
     "output_type": "execute_result"
    }
   ],
   "source": [
    "df.describe(include=['object']).T   # to show comprehensive overview of string data"
   ]
  },
  {
   "cell_type": "code",
   "execution_count": 171,
   "id": "2e06ba32-9edf-40ba-aa6a-e4ac42f8bf70",
   "metadata": {},
   "outputs": [],
   "source": [
    "df['income']=df['income'].replace({'<=50K' :0,'>50K' :1})\n",
    "df['income']=df['income'].astype(int)\n",
    "df_numeric=df[['age', 'fnlwgt','education-num', 'hours-per-week', 'capital-gain','capital-loss', 'income']]"
   ]
  },
  {
   "cell_type": "code",
   "execution_count": 59,
   "id": "436722a8-b4a9-42f4-b149-7f6e695f31cf",
   "metadata": {},
   "outputs": [
    {
     "data": {
      "text/html": [
       "<div>\n",
       "<style scoped>\n",
       "    .dataframe tbody tr th:only-of-type {\n",
       "        vertical-align: middle;\n",
       "    }\n",
       "\n",
       "    .dataframe tbody tr th {\n",
       "        vertical-align: top;\n",
       "    }\n",
       "\n",
       "    .dataframe thead th {\n",
       "        text-align: right;\n",
       "    }\n",
       "</style>\n",
       "<table border=\"1\" class=\"dataframe\">\n",
       "  <thead>\n",
       "    <tr style=\"text-align: right;\">\n",
       "      <th></th>\n",
       "      <th>age</th>\n",
       "      <th>fnlwgt</th>\n",
       "      <th>education-num</th>\n",
       "      <th>hours-per-week</th>\n",
       "      <th>capital-gain</th>\n",
       "      <th>capital-loss</th>\n",
       "      <th>income</th>\n",
       "    </tr>\n",
       "  </thead>\n",
       "  <tbody>\n",
       "    <tr>\n",
       "      <th>age</th>\n",
       "      <td>1.000000</td>\n",
       "      <td>-0.076628</td>\n",
       "      <td>0.030940</td>\n",
       "      <td>0.071558</td>\n",
       "      <td>0.077229</td>\n",
       "      <td>0.056944</td>\n",
       "      <td>0.230369</td>\n",
       "    </tr>\n",
       "    <tr>\n",
       "      <th>fnlwgt</th>\n",
       "      <td>-0.076628</td>\n",
       "      <td>1.000000</td>\n",
       "      <td>-0.038761</td>\n",
       "      <td>-0.013519</td>\n",
       "      <td>-0.003706</td>\n",
       "      <td>-0.004366</td>\n",
       "      <td>-0.006339</td>\n",
       "    </tr>\n",
       "    <tr>\n",
       "      <th>education-num</th>\n",
       "      <td>0.030940</td>\n",
       "      <td>-0.038761</td>\n",
       "      <td>1.000000</td>\n",
       "      <td>0.143689</td>\n",
       "      <td>0.125146</td>\n",
       "      <td>0.080972</td>\n",
       "      <td>0.332613</td>\n",
       "    </tr>\n",
       "    <tr>\n",
       "      <th>hours-per-week</th>\n",
       "      <td>0.071558</td>\n",
       "      <td>-0.013519</td>\n",
       "      <td>0.143689</td>\n",
       "      <td>1.000000</td>\n",
       "      <td>0.082157</td>\n",
       "      <td>0.054467</td>\n",
       "      <td>0.227687</td>\n",
       "    </tr>\n",
       "    <tr>\n",
       "      <th>capital-gain</th>\n",
       "      <td>0.077229</td>\n",
       "      <td>-0.003706</td>\n",
       "      <td>0.125146</td>\n",
       "      <td>0.082157</td>\n",
       "      <td>1.000000</td>\n",
       "      <td>-0.031441</td>\n",
       "      <td>0.223013</td>\n",
       "    </tr>\n",
       "    <tr>\n",
       "      <th>capital-loss</th>\n",
       "      <td>0.056944</td>\n",
       "      <td>-0.004366</td>\n",
       "      <td>0.080972</td>\n",
       "      <td>0.054467</td>\n",
       "      <td>-0.031441</td>\n",
       "      <td>1.000000</td>\n",
       "      <td>0.147554</td>\n",
       "    </tr>\n",
       "    <tr>\n",
       "      <th>income</th>\n",
       "      <td>0.230369</td>\n",
       "      <td>-0.006339</td>\n",
       "      <td>0.332613</td>\n",
       "      <td>0.227687</td>\n",
       "      <td>0.223013</td>\n",
       "      <td>0.147554</td>\n",
       "      <td>1.000000</td>\n",
       "    </tr>\n",
       "  </tbody>\n",
       "</table>\n",
       "</div>"
      ],
      "text/plain": [
       "                     age    fnlwgt  education-num  hours-per-week  \\\n",
       "age             1.000000 -0.076628       0.030940        0.071558   \n",
       "fnlwgt         -0.076628  1.000000      -0.038761       -0.013519   \n",
       "education-num   0.030940 -0.038761       1.000000        0.143689   \n",
       "hours-per-week  0.071558 -0.013519       0.143689        1.000000   \n",
       "capital-gain    0.077229 -0.003706       0.125146        0.082157   \n",
       "capital-loss    0.056944 -0.004366       0.080972        0.054467   \n",
       "income          0.230369 -0.006339       0.332613        0.227687   \n",
       "\n",
       "                capital-gain  capital-loss    income  \n",
       "age                 0.077229      0.056944  0.230369  \n",
       "fnlwgt             -0.003706     -0.004366 -0.006339  \n",
       "education-num       0.125146      0.080972  0.332613  \n",
       "hours-per-week      0.082157      0.054467  0.227687  \n",
       "capital-gain        1.000000     -0.031441  0.223013  \n",
       "capital-loss       -0.031441      1.000000  0.147554  \n",
       "income              0.223013      0.147554  1.000000  "
      ]
     },
     "execution_count": 59,
     "metadata": {},
     "output_type": "execute_result"
    }
   ],
   "source": [
    "df_numeric.corr()"
   ]
  },
  {
   "cell_type": "markdown",
   "id": "ee632fd7-65dc-4a1c-92df-a68ee49c5261",
   "metadata": {},
   "source": [
    "Dropping fnlwgt coumn (dont contribute in the prediction mdel) is negatively correlated to the income target column"
   ]
  },
  {
   "cell_type": "code",
   "execution_count": null,
   "id": "f6a7db53-8b36-4717-8d75-09689b7f3e31",
   "metadata": {},
   "outputs": [],
   "source": [
    "#df.drop(['fnlwgt'],axis=1,inplace=True)"
   ]
  },
  {
   "cell_type": "markdown",
   "id": "9986984b-06c3-4d4f-bdf6-3d83df1f3faf",
   "metadata": {},
   "source": [
    "Task9:\n",
    "\"Outlier Detection and Treatment: \n",
    "Identify and handle outliers using techniques like z-scores, IQR, or domain knowledge.\n",
    "Feature Engineering: \n",
    "Create new features if necessary. Encode categorical variables (e.g., one-hot encoding). \n",
    "Transform features (e.g., log-transform for skewed distributions).Explain:What are the methods for normalization and standardization\""
   ]
  },
  {
   "cell_type": "markdown",
   "id": "da38e3d9-5515-4cee-bd2b-b98494f738bb",
   "metadata": {},
   "source": [
    "### Outlier Detection and Treatment\n",
    "Outliers are data points that significantly differ from other observations. They can skew analysis, affect model performance\n",
    ", and lead to misleading results. Detecting and treating them is a critical part of data preprocessing.\n",
    "\n",
    "1. Z-Score Method\n",
    "When to use: For normally distributed data.\n",
    "\n",
    "How it works: Measures how far a point is from the mean in terms of standard deviations.\n",
    "Treatment options: Remove, cap, or impute the outliers."
   ]
  },
  {
   "cell_type": "code",
   "execution_count": 137,
   "id": "d63da810-87ce-4fb4-a356-3aaad2b2363d",
   "metadata": {},
   "outputs": [
    {
     "name": "stdout",
     "output_type": "stream",
     "text": [
      "       age         workclass  fnlwgt     education  education-num  \\\n",
      "222     90           Private   51744       HS-grad              9   \n",
      "430     80           Private  107762       HS-grad              9   \n",
      "918     81  Self-emp-not-inc  136063       HS-grad              9   \n",
      "1040    90           Private  137018       HS-grad              9   \n",
      "1168    88  Self-emp-not-inc  206291   Prof-school             15   \n",
      "...    ...               ...     ...           ...            ...   \n",
      "48495   84           Private   65478       HS-grad              9   \n",
      "48524   80           Private  107740       HS-grad              9   \n",
      "48564   80  Self-emp-not-inc   29441       7th-8th              4   \n",
      "48667   83           Private  192305  Some-college             10   \n",
      "48812   81           Private   26711     Assoc-voc             11   \n",
      "\n",
      "              marital-status         occupation   relationship   race     sex  \\\n",
      "222            Never-married      Other-service  Not-in-family  Black    Male   \n",
      "430                  Widowed     Prof-specialty  Not-in-family  White    Male   \n",
      "918       Married-civ-spouse    Exec-managerial        Husband  White    Male   \n",
      "1040           Never-married      Other-service  Not-in-family  White  Female   \n",
      "1168      Married-civ-spouse     Prof-specialty        Husband  White    Male   \n",
      "...                      ...                ...            ...    ...     ...   \n",
      "48495                Widowed    Priv-house-serv  Not-in-family  White  Female   \n",
      "48524                Widowed  Handlers-cleaners  Not-in-family  White    Male   \n",
      "48564  Married-spouse-absent    Farming-fishing      Unmarried  White    Male   \n",
      "48667               Divorced     Prof-specialty      Unmarried  White  Female   \n",
      "48812     Married-civ-spouse     Prof-specialty        Husband  White    Male   \n",
      "\n",
      "       capital-gain  capital-loss  hours-per-week native-country income  \\\n",
      "222               0          2206              40  United-States  <=50K   \n",
      "430               0             0              24  United-States  <=50K   \n",
      "918               0             0              30  United-States  <=50K   \n",
      "1040              0             0              40  United-States  <=50K   \n",
      "1168              0             0              40  United-States  <=50K   \n",
      "...             ...           ...             ...            ...    ...   \n",
      "48495             0             0              40        England  <=50K   \n",
      "48524             0             0              30  United-States  <=50K   \n",
      "48564             0             0              15  United-States  <=50K   \n",
      "48667             0             0              20  United-States  <=50K   \n",
      "48812          2936             0              20  United-States  <=50K   \n",
      "\n",
      "        z_score  \n",
      "222    3.745808  \n",
      "430    3.016433  \n",
      "918    3.089371  \n",
      "1040   3.745808  \n",
      "1168   3.599933  \n",
      "...         ...  \n",
      "48495  3.308183  \n",
      "48524  3.016433  \n",
      "48564  3.016433  \n",
      "48667  3.235246  \n",
      "48812  3.089371  \n",
      "\n",
      "[186 rows x 16 columns]\n"
     ]
    }
   ],
   "source": [
    "from scipy.stats import zscore\n",
    "import numpy as np\n",
    "\n",
    "df['z_score'] = zscore(df['age'])\n",
    "\n",
    "# Detect outliers with Z-score > 3 or < -3\n",
    "outliers = df[np.abs(df['z_score']) > 3 ]\n",
    "print(outliers)\n"
   ]
  },
  {
   "cell_type": "markdown",
   "id": "4ac21e2e-2e38-448f-9cc7-e520efa214b0",
   "metadata": {},
   "source": [
    "### Combining the data logically to reduce categories -\r\n",
    "Further, we combine the data in various columns –"
   ]
  },
  {
   "cell_type": "markdown",
   "id": "4167db06-58d3-4dca-881d-3cc94a6e04e3",
   "metadata": {},
   "source": [
    "### Feature engineering - Data Preprocessing - Categorical grouping"
   ]
  },
  {
   "cell_type": "code",
   "execution_count": 120,
   "id": "89448384-111a-4f92-8020-2ed1d624537d",
   "metadata": {},
   "outputs": [
    {
     "data": {
      "text/plain": [
       "Index(['age', 'workclass', 'fnlwgt', 'education', 'education-num',\n",
       "       'marital-status', 'occupation', 'relationship', 'race', 'sex',\n",
       "       'capital-gain', 'capital-loss', 'hours-per-week', 'native-country',\n",
       "       'income'],\n",
       "      dtype='object')"
      ]
     },
     "execution_count": 120,
     "metadata": {},
     "output_type": "execute_result"
    }
   ],
   "source": [
    "df.columns"
   ]
  },
  {
   "cell_type": "code",
   "execution_count": 15,
   "id": "6f3dd430-1be1-4102-b4dc-1e68aa4394b6",
   "metadata": {},
   "outputs": [
    {
     "name": "stdout",
     "output_type": "stream",
     "text": [
      "workclass\n",
      "Private             36705\n",
      "Self-emp-not-inc     3862\n",
      "Local-gov            3136\n",
      "State-gov            1981\n",
      "Self-emp-inc         1695\n",
      "Federal-gov          1432\n",
      "Without-pay            21\n",
      "Never-worked           10\n",
      "Name: count, dtype: int64\n"
     ]
    }
   ],
   "source": [
    "print(df['workclass'].value_counts())"
   ]
  },
  {
   "cell_type": "code",
   "execution_count": 16,
   "id": "500daca8-c84f-4485-9558-eeb8924e09cd",
   "metadata": {},
   "outputs": [],
   "source": [
    "# define mapping dictionaries--workclass\n",
    "workclass_group= {'Never-worked' :'Without-pay', 'Without-pay' : 'Without-pay',\n",
    "                  'Local-gov':'gov','State-gov':'gov','Federal-gov' : 'Federal-gov',\n",
    "                  'Self-emp-not-inc' : 'Private', 'Private':'Private',\n",
    "                 'Self-emp-inc' : 'Self-emp-inc'}\n",
    "#apply replacements\n",
    "df['workclass']=df['workclass'].map(workclass_group).fillna('Other')\n",
    "                  "
   ]
  },
  {
   "cell_type": "markdown",
   "id": "2f7745f5-3cea-4f1a-ac38-5831e853f80c",
   "metadata": {},
   "source": [
    "We put ‘Never-worked’ and ‘Without-pay’ in one category, \n",
    "we classify ‘State-gov’ and ‘Local-gov’ as ‘Gov’, and we add ‘Self-emp-not-inc’ in ‘Private’ category, since the distributions are similar.\n",
    "\n",
    "We obtain 5 different categories in Workclass column"
   ]
  },
  {
   "cell_type": "code",
   "execution_count": 122,
   "id": "7ed010e7-af22-4924-b4f7-330c02658c69",
   "metadata": {},
   "outputs": [
    {
     "name": "stdout",
     "output_type": "stream",
     "text": [
      "workclass\n",
      "Private         40567\n",
      "gov              5117\n",
      "Self-emp-inc     1695\n",
      "Federal-gov      1432\n",
      "Without-pay        31\n",
      "Name: count, dtype: int64\n"
     ]
    }
   ],
   "source": [
    "print(df['workclass'].value_counts())"
   ]
  },
  {
   "cell_type": "code",
   "execution_count": 45,
   "id": "27576bb7-4af8-4531-809c-074d28df48fa",
   "metadata": {},
   "outputs": [
    {
     "name": "stdout",
     "output_type": "stream",
     "text": [
      "education\n",
      "HS-grad         15784\n",
      "Some-college    10878\n",
      "Bachelors        8025\n",
      "Masters          2657\n",
      "Assoc-voc        2061\n",
      "11th             1812\n",
      "Assoc-acdm       1601\n",
      "10th             1389\n",
      "7th-8th           955\n",
      "Prof-school       834\n",
      "9th               756\n",
      "12th              657\n",
      "Doctorate         594\n",
      "5th-6th           509\n",
      "1st-4th           247\n",
      "Preschool          83\n",
      "Name: count, dtype: int64\n"
     ]
    }
   ],
   "source": [
    "print(df['education'].value_counts())"
   ]
  },
  {
   "cell_type": "code",
   "execution_count": 17,
   "id": "655c399d-1ccc-4624-b511-4deecfed8737",
   "metadata": {},
   "outputs": [],
   "source": [
    "# define mapping dictionaries--education\n",
    "education_group={'Preschool':'School','1st-4th':'School', '5th-6th':'School','12th':'School', '9th':'School',\n",
    "                 '7th-8th':'School','10th':'School','11th':'School', 'Doctorate':'Doctorate', 'Prof-school':'Doctorate',\n",
    "                 'Assoc-acdm':'Assoc','Assoc-voc' :'Assoc', 'HS-grad':'College', 'Some-college': 'College',\n",
    "                'Bachelors':'Bachelors','Masters':'Masters'}\n",
    "\n",
    "#apply replacements\n",
    "df['education']=df['education'].map(education_group).fillna('Other')"
   ]
  },
  {
   "cell_type": "code",
   "execution_count": 61,
   "id": "e754f749-475a-4611-9438-ddf408923b37",
   "metadata": {},
   "outputs": [
    {
     "name": "stdout",
     "output_type": "stream",
     "text": [
      "education\n",
      "College      26662\n",
      "Bachelors     8025\n",
      "School        6408\n",
      "Assoc         3662\n",
      "Masters       2657\n",
      "Doctorate     1428\n",
      "Name: count, dtype: int64\n"
     ]
    }
   ],
   "source": [
    "print(df['education'].value_counts())"
   ]
  },
  {
   "cell_type": "markdown",
   "id": "818c266c-40ba-4215-a40e-71a8fd377c1f",
   "metadata": {},
   "source": [
    "We combine all the columns relevant to schools in ‘School’ category, \n",
    "put ‘Doctorate’ and ‘Prof school’ in a single category ‘Doctorate’,\n",
    "‘Assoc-acdm’ and ‘Assoc-voc’ in one category ‘Assoc’, and ‘HS-Grad’ and ‘Some-college’ in one category ‘College’.\n",
    "\n",
    "We now obtain 6 categories of education which we feed to our machine learning model."
   ]
  },
  {
   "cell_type": "code",
   "execution_count": 66,
   "id": "ef6e8ec8-2449-4c2d-9e6d-49ca86e5ea24",
   "metadata": {},
   "outputs": [
    {
     "name": "stdout",
     "output_type": "stream",
     "text": [
      "marital-status\n",
      "Married-civ-spouse       22379\n",
      "Never-married            16117\n",
      "Divorced                  6633\n",
      "Separated                 1530\n",
      "Widowed                   1518\n",
      "Married-spouse-absent      628\n",
      "Married-AF-spouse           37\n",
      "Name: count, dtype: int64\n"
     ]
    }
   ],
   "source": [
    "print(df['marital-status'].value_counts())"
   ]
  },
  {
   "cell_type": "code",
   "execution_count": 18,
   "id": "3ea23c66-56a5-48d2-93aa-f92801223af9",
   "metadata": {},
   "outputs": [],
   "source": [
    "maritalstatus_group={'Divorced' :'No-spouse', 'Separated':'No-spouse','Widowed':'No-spouse',\n",
    "                     'Married-spouse-absent':'No-spouse','Married-AF-spouse':'No-spouse',\n",
    "                     'Married-civ-spouse':'Married-civ-spouse', 'Never-married':'Never-married'}\n",
    "#apply replacements\n",
    "df['marital-status']=df['marital-status'].map(maritalstatus_group).fillna('Other')"
   ]
  },
  {
   "cell_type": "code",
   "execution_count": 78,
   "id": "ee8720e5-dc78-4b8a-8efe-fb587dff7c06",
   "metadata": {},
   "outputs": [
    {
     "name": "stdout",
     "output_type": "stream",
     "text": [
      "marital-status\n",
      "Married-civ-spouse    22379\n",
      "Never-married         16117\n",
      "No-spouse             10346\n",
      "Name: count, dtype: int64\n"
     ]
    }
   ],
   "source": [
    "print(df['marital-status'].value_counts())"
   ]
  },
  {
   "cell_type": "code",
   "execution_count": null,
   "id": "7ca81069-b3ee-4851-9093-468384d26807",
   "metadata": {},
   "outputs": [],
   "source": [
    "We combine ‘Divorced’, ‘Married-spouse-absent’, ‘Separated’, ‘Widowed’ and ‘Married-AF-Spouse’ \n",
    "to one category and name it as ‘No spouse’.\n",
    "\n",
    "We now obtain 3 categories."
   ]
  },
  {
   "cell_type": "code",
   "execution_count": 80,
   "id": "d37d6875-fe2e-4d46-8720-7195fc899699",
   "metadata": {},
   "outputs": [
    {
     "name": "stdout",
     "output_type": "stream",
     "text": [
      "relationship\n",
      "Husband           19716\n",
      "Not-in-family     12583\n",
      "Own-child          7581\n",
      "Unmarried          5125\n",
      "Wife               2331\n",
      "Other-relative     1506\n",
      "Name: count, dtype: int64\n"
     ]
    }
   ],
   "source": [
    " print(df['relationship'].value_counts())"
   ]
  },
  {
   "cell_type": "code",
   "execution_count": 19,
   "id": "f5c4725a-8acc-4fef-88de-30389990d21f",
   "metadata": {},
   "outputs": [],
   "source": [
    "relationship_group={'Husband' :'Husband','Wife' : 'Wife'}\n",
    "#apply replacements\n",
    "df['relationship']=df['relationship'].map(relationship_group).fillna('Other')"
   ]
  },
  {
   "cell_type": "code",
   "execution_count": 82,
   "id": "421375df-a0ff-41b9-8a62-18a8d5bd9932",
   "metadata": {},
   "outputs": [
    {
     "name": "stdout",
     "output_type": "stream",
     "text": [
      "relationship\n",
      "Other      26795\n",
      "Husband    19716\n",
      "Wife        2331\n",
      "Name: count, dtype: int64\n"
     ]
    }
   ],
   "source": [
    " print(df['relationship'].value_counts())"
   ]
  },
  {
   "cell_type": "markdown",
   "id": "43822c9c-cc69-4822-b097-25547e6795ce",
   "metadata": {},
   "source": [
    "We combine ‘Not-in-family’, ‘Own-child’, ‘Unmarried’ and ‘Other-relative’\n",
    "columns to a single category looking at the distributions, and name is as ‘Other’."
   ]
  },
  {
   "cell_type": "code",
   "execution_count": 83,
   "id": "45d0e3e6-3fc6-4ca8-b506-eacb180d4cca",
   "metadata": {},
   "outputs": [
    {
     "name": "stdout",
     "output_type": "stream",
     "text": [
      "race\n",
      "White                 41762\n",
      "Black                  4685\n",
      "Asian-Pac-Islander     1519\n",
      "Amer-Indian-Eskimo      470\n",
      "Other                   406\n",
      "Name: count, dtype: int64\n"
     ]
    }
   ],
   "source": [
    " print(df['race'].value_counts())"
   ]
  },
  {
   "cell_type": "code",
   "execution_count": 20,
   "id": "bac39a2d-affa-4682-aabd-947ad160f1d9",
   "metadata": {},
   "outputs": [],
   "source": [
    "race_group={'White' : 'White','Black' : 'Black', 'Asian-Pac-Islander':'Asian-Pac-Islander',\n",
    "            'Amer-Indian-Eskimo': 'Others','Other':'Others'}\n",
    "df['race']=df['race'].map(race_group).fillna('Other')"
   ]
  },
  {
   "cell_type": "code",
   "execution_count": 85,
   "id": "718068aa-1c66-4955-b5b0-1ffdc3e5d17d",
   "metadata": {},
   "outputs": [
    {
     "name": "stdout",
     "output_type": "stream",
     "text": [
      "race\n",
      "White                 41762\n",
      "Black                  4685\n",
      "Asian-Pac-Islander     1519\n",
      "Others                  876\n",
      "Name: count, dtype: int64\n"
     ]
    }
   ],
   "source": [
    " print(df['race'].value_counts())"
   ]
  },
  {
   "cell_type": "markdown",
   "id": "7f877665-c545-414c-a199-e8ed7015c8c5",
   "metadata": {},
   "source": [
    "We combine the categories ‘Amer-Indian-Eskimo’ and ‘Other’ to ‘Others’ category, \n",
    "since they have similar distributions.\n",
    "\n",
    "Our data categorization is now done. The next step is to identify if our data has any outliers, and deal with them."
   ]
  },
  {
   "cell_type": "markdown",
   "id": "30b9f5b9-7d08-42aa-8e84-849ca035743c",
   "metadata": {},
   "source": [
    "Data Categorioal description"
   ]
  },
  {
   "cell_type": "code",
   "execution_count": 21,
   "id": "852cfe0d-de5d-45ee-8705-2d293e544349",
   "metadata": {},
   "outputs": [
    {
     "data": {
      "text/html": [
       "<div>\n",
       "<style scoped>\n",
       "    .dataframe tbody tr th:only-of-type {\n",
       "        vertical-align: middle;\n",
       "    }\n",
       "\n",
       "    .dataframe tbody tr th {\n",
       "        vertical-align: top;\n",
       "    }\n",
       "\n",
       "    .dataframe thead th {\n",
       "        text-align: right;\n",
       "    }\n",
       "</style>\n",
       "<table border=\"1\" class=\"dataframe\">\n",
       "  <thead>\n",
       "    <tr style=\"text-align: right;\">\n",
       "      <th></th>\n",
       "      <th>count</th>\n",
       "      <th>unique</th>\n",
       "      <th>top</th>\n",
       "      <th>freq</th>\n",
       "    </tr>\n",
       "  </thead>\n",
       "  <tbody>\n",
       "    <tr>\n",
       "      <th>workclass</th>\n",
       "      <td>48842</td>\n",
       "      <td>5</td>\n",
       "      <td>Private</td>\n",
       "      <td>40567</td>\n",
       "    </tr>\n",
       "    <tr>\n",
       "      <th>education</th>\n",
       "      <td>48842</td>\n",
       "      <td>6</td>\n",
       "      <td>College</td>\n",
       "      <td>26662</td>\n",
       "    </tr>\n",
       "    <tr>\n",
       "      <th>marital-status</th>\n",
       "      <td>48842</td>\n",
       "      <td>3</td>\n",
       "      <td>Married-civ-spouse</td>\n",
       "      <td>22379</td>\n",
       "    </tr>\n",
       "    <tr>\n",
       "      <th>occupation</th>\n",
       "      <td>48842</td>\n",
       "      <td>14</td>\n",
       "      <td>Prof-specialty</td>\n",
       "      <td>8981</td>\n",
       "    </tr>\n",
       "    <tr>\n",
       "      <th>relationship</th>\n",
       "      <td>48842</td>\n",
       "      <td>3</td>\n",
       "      <td>Other</td>\n",
       "      <td>26795</td>\n",
       "    </tr>\n",
       "    <tr>\n",
       "      <th>race</th>\n",
       "      <td>48842</td>\n",
       "      <td>4</td>\n",
       "      <td>White</td>\n",
       "      <td>41762</td>\n",
       "    </tr>\n",
       "    <tr>\n",
       "      <th>sex</th>\n",
       "      <td>48842</td>\n",
       "      <td>2</td>\n",
       "      <td>Male</td>\n",
       "      <td>32650</td>\n",
       "    </tr>\n",
       "    <tr>\n",
       "      <th>native-country</th>\n",
       "      <td>48842</td>\n",
       "      <td>42</td>\n",
       "      <td>United-States</td>\n",
       "      <td>44106</td>\n",
       "    </tr>\n",
       "    <tr>\n",
       "      <th>income</th>\n",
       "      <td>48842</td>\n",
       "      <td>2</td>\n",
       "      <td>&lt;=50K</td>\n",
       "      <td>37155</td>\n",
       "    </tr>\n",
       "  </tbody>\n",
       "</table>\n",
       "</div>"
      ],
      "text/plain": [
       "                count unique                 top   freq\n",
       "workclass       48842      5             Private  40567\n",
       "education       48842      6             College  26662\n",
       "marital-status  48842      3  Married-civ-spouse  22379\n",
       "occupation      48842     14      Prof-specialty   8981\n",
       "relationship    48842      3               Other  26795\n",
       "race            48842      4               White  41762\n",
       "sex             48842      2                Male  32650\n",
       "native-country  48842     42       United-States  44106\n",
       "income          48842      2               <=50K  37155"
      ]
     },
     "execution_count": 21,
     "metadata": {},
     "output_type": "execute_result"
    }
   ],
   "source": [
    "df.describe(include=['object']).T   # to show comprehensive overview of string data"
   ]
  },
  {
   "cell_type": "markdown",
   "id": "2245d7ef-320f-4a20-8ffe-de01640a5caa",
   "metadata": {},
   "source": [
    "### Exploring data using Univariate\n",
    "In case of numeric varibles:\n",
    "* Mean, Median and mode (for central tendency)\n",
    "* Standard deviation and variance (for spread)\n",
    "* Histogram, box plots and density plots (for visalization of distribution\")\n",
    "In case of categorical variables:\n",
    "* Frequency tables\n",
    "* Bar plots or pie charts (for visualization of category distribution)"
   ]
  },
  {
   "cell_type": "code",
   "execution_count": 22,
   "id": "64da4cbb-03fd-4899-ab06-f8efebded5eb",
   "metadata": {},
   "outputs": [
    {
     "name": "stderr",
     "output_type": "stream",
     "text": [
      "C:\\Users\\19736\\AppData\\Local\\Temp\\ipykernel_2612\\815219216.py:10: UserWarning: \n",
      "\n",
      "`distplot` is a deprecated function and will be removed in seaborn v0.14.0.\n",
      "\n",
      "Please adapt your code to use either `displot` (a figure-level function with\n",
      "similar flexibility) or `histplot` (an axes-level function for histograms).\n",
      "\n",
      "For a guide to updating your code to use the new functions, please see\n",
      "https://gist.github.com/mwaskom/de44147ed2974457ad6372750bbe5751\n",
      "\n",
      "  sns.distplot(income_numeric)\n",
      "C:\\Users\\19736\\anaconda3\\Lib\\site-packages\\seaborn\\_oldcore.py:1119: FutureWarning: use_inf_as_na option is deprecated and will be removed in a future version. Convert inf values to NaN before operating instead.\n",
      "  with pd.option_context('mode.use_inf_as_na', True):\n"
     ]
    },
    {
     "data": {
      "text/plain": [
       "<Axes: xlabel='income', ylabel='Density'>"
      ]
     },
     "execution_count": 22,
     "metadata": {},
     "output_type": "execute_result"
    },
    {
     "data": {
      "image/png": "[encoded data removed]",
      "text/plain": [
       "<Figure size 400x300 with 1 Axes>"
      ]
     },
     "metadata": {},
     "output_type": "display_data"
    }
   ],
   "source": [
    "# converting string to numeric\n",
    "income_numeric = df['income'].replace({'<=50K':0, '>50K':1})\n",
    "#df['income'].unique()\n",
    "\n",
    "#df_income_numeric.unique()\n",
    "\n",
    "# plotting \n",
    "plt.figure(figsize=(4,3))\n",
    "\n",
    "sns.distplot(income_numeric)"
   ]
  },
  {
   "cell_type": "markdown",
   "id": "84f5af68-194d-467d-859a-9bb875ba55ae",
   "metadata": {},
   "source": [
    "To find the skewness of income numerical variable"
   ]
  },
  {
   "cell_type": "code",
   "execution_count": 23,
   "id": "28ef6b04-7ecf-4ee3-b4f1-b12d344c2f03",
   "metadata": {},
   "outputs": [
    {
     "data": {
      "text/plain": [
       "1.2222161678605545"
      ]
     },
     "execution_count": 23,
     "metadata": {},
     "output_type": "execute_result"
    }
   ],
   "source": [
    "income_numeric.skew()"
   ]
  },
  {
   "cell_type": "markdown",
   "id": "5a67b2de-8c58-4538-a675-358b5ad7a180",
   "metadata": {},
   "source": [
    "## Notes:\n",
    "Skewness means lack of symmetry in distribution of data, particularly in numerical data.\n",
    "Measure that describes about the shape of distribution in relation to normal distribution also called Gaussian distribution\n",
    "Types of skewness : Positive(right), Negative(left), No skew(symmetrical) - data is evenly distributed on both sides\n",
    "Purpose : Improve model performance, handle otliers, make data best suited for specific algorithms .\n",
    "Impact on ML model: To reduce skewness and make data normal, using log transformations to right skewed,\n",
    "data can compress the tail and make distribution closer to normal.\n",
    "This density for income=0 is significantly higher than income=1\n",
    "Skewness of income distribution is 1.222, which indicates positive skewness(right skewed) Slightly tailed towards right"
   ]
  },
  {
   "cell_type": "markdown",
   "id": "21f2f82f-93ba-42e4-a085-5afa12dcd69d",
   "metadata": {},
   "source": [
    "Exploring Data using Bivariate analysis¶"
   ]
  },
  {
   "cell_type": "markdown",
   "id": "3413c0fe-5f54-446f-b388-53ac41e54d7c",
   "metadata": {},
   "source": [
    "Used to explore the relationship between 2 variables"
   ]
  },
  {
   "cell_type": "markdown",
   "id": "235cee91-861a-4d54-93bb-2447448d56ba",
   "metadata": {},
   "source": [
    "1. Continuous vs Categorical"
   ]
  },
  {
   "cell_type": "code",
   "execution_count": 28,
   "id": "57ae2cb0-f5f5-490b-80cc-0549aba9d747",
   "metadata": {},
   "outputs": [
    {
     "data": {
      "text/plain": [
       "<Axes: xlabel='age', ylabel='income'>"
      ]
     },
     "execution_count": 28,
     "metadata": {},
     "output_type": "execute_result"
    },
    {
     "data": {
      "image/png": "[encoded data removed]",
      "text/plain": [
       "<Figure size 400x200 with 1 Axes>"
      ]
     },
     "metadata": {},
     "output_type": "display_data"
    }
   ],
   "source": [
    "plt.figure(figsize=(4,2))\n",
    "\n",
    "sns.scatterplot(x='age',y='income',data=df)"
   ]
  },
  {
   "cell_type": "markdown",
   "id": "2beab776-4b88-4db6-b240-ef59c6cfdbac",
   "metadata": {},
   "source": [
    "Outlier Detection\n",
    "We further proceed to detect outliers in our data and decide how to deal with them. The best way to interpret outliers using visualizations is boxplot, \n",
    "hence we plot boxplots for our numerical columns, which result in the below visuatization –"
   ]
  },
  {
   "cell_type": "code",
   "execution_count": 29,
   "id": "7871a499-1ea4-4304-a111-c4faaf4802c3",
   "metadata": {},
   "outputs": [
    {
     "name": "stdout",
     "output_type": "stream",
     "text": [
      "Model Accuracy: 0.7456493550808708\n"
     ]
    }
   ],
   "source": [
    "from sklearn.linear_model import LogisticRegression\n",
    "from sklearn.model_selection import train_test_split\n",
    "from sklearn.metrics import accuracy_score\n",
    "\n",
    "X = df[['age']]  # Independent variable (age)\n",
    "y = df['income']  # Dependent variable (income)\n",
    "\n",
    "y = y.map({'<=50K': 0, '>50K': 1})\n",
    "\n",
    "X_train, X_test, y_train, y_test = train_test_split(X, y, test_size=0.3, random_state=42)\n",
    "\n",
    "# Logistic regression model training \n",
    "model = LogisticRegression()\n",
    "model.fit(X_train, y_train)\n",
    "\n",
    "y_pred = model.predict(X_test)  # to predict on test model\n",
    "\n",
    "accuracy = accuracy_score(y_test, y_pred)\n",
    "print(f\"Model Accuracy: {accuracy}\")"
   ]
  },
  {
   "cell_type": "markdown",
   "id": "462194f8-f6f8-4255-b182-845f31712653",
   "metadata": {},
   "source": [
    "Filtering age_group data¶"
   ]
  },
  {
   "cell_type": "code",
   "execution_count": 30,
   "id": "20816187-8b36-4676-a33b-d7eb8f2e6400",
   "metadata": {},
   "outputs": [
    {
     "data": {
      "text/plain": [
       "age_group\n",
       "30-40    12838\n",
       "20-30    12170\n",
       "40-50    10403\n",
       "50-60     6202\n",
       "<20       3623\n",
       "60-70     2738\n",
       "70-80      720\n",
       "80+        148\n",
       "Name: count, dtype: int64"
      ]
     },
     "execution_count": 30,
     "metadata": {},
     "output_type": "execute_result"
    }
   ],
   "source": [
    "bins = [0,20,30,40,50,60,70,80,90]\n",
    "\n",
    "labels = ['<20', '20-30', '30-40', '40-50', '50-60', '60-70', '70-80', '80+']\n",
    "\n",
    "df['age_group'] = pd.cut(df['age'], bins=bins, labels=labels)\n",
    "\n",
    "df['age_group'].value_counts()"
   ]
  },
  {
   "cell_type": "code",
   "execution_count": 31,
   "id": "9a5254cf-912d-449a-a8d0-405ec2c7cb3e",
   "metadata": {},
   "outputs": [
    {
     "data": {
      "text/plain": [
       "['30-40', '40-50', '50-60', '20-30', '<20', '70-80', '60-70', '80+']\n",
       "Categories (8, object): ['<20' < '20-30' < '30-40' < '40-50' < '50-60' < '60-70' < '70-80' < '80+']"
      ]
     },
     "execution_count": 31,
     "metadata": {},
     "output_type": "execute_result"
    }
   ],
   "source": [
    "df['age_group'].unique()"
   ]
  },
  {
   "cell_type": "markdown",
   "id": "35c50ff1-70da-4a93-9c5e-e0c7c7513bad",
   "metadata": {},
   "source": [
    "Code snippet to filter the age groups(label based selection .loc)"
   ]
  },
  {
   "cell_type": "code",
   "execution_count": 32,
   "id": "c0613e40-73fa-49e4-abdd-3c11149c5f05",
   "metadata": {},
   "outputs": [],
   "source": [
    "df_30_40 = df.loc[df['age_group'] == '30-40']\n",
    "\n",
    "df_20_30 = df.loc[df['age_group']=='20-30']\n",
    "\n",
    "df_40_50 = df.loc[df['age_group']=='40-50']\n",
    "\n",
    "df_50_60 = df.loc[df['age_group']=='50-60']\n",
    "\n",
    "df_lessthan_20 = df.loc[df['age_group']=='<20']\n",
    "\n",
    "df_60_70 = df.loc[df['age_group']=='60-70']\n",
    "\n",
    "df_70_80 = df.loc[df['age_group']=='70-80']\n",
    "\n",
    "df_80_above = df.loc[df['age_group']=='80+']"
   ]
  },
  {
   "cell_type": "markdown",
   "id": "654c5a6f-116d-419b-82de-ccd867815c6b",
   "metadata": {},
   "source": [
    "Distribution of age_group kernal density estimation"
   ]
  },
  {
   "cell_type": "code",
   "execution_count": 34,
   "id": "ae5d5394-968e-45a2-9d0a-173f07be9874",
   "metadata": {},
   "outputs": [
    {
     "name": "stderr",
     "output_type": "stream",
     "text": [
      "C:\\Users\\19736\\anaconda3\\Lib\\site-packages\\seaborn\\_oldcore.py:1119: FutureWarning: use_inf_as_na option is deprecated and will be removed in a future version. Convert inf values to NaN before operating instead.\n",
      "  with pd.option_context('mode.use_inf_as_na', True):\n"
     ]
    },
    {
     "name": "stdout",
     "output_type": "stream",
     "text": [
      "Descriptive statistics count     48842\n",
      "unique        8\n",
      "top       30-40\n",
      "freq      12838\n",
      "Name: age_group, dtype: object\n"
     ]
    },
    {
     "data": {
      "image/png": "[encoded data removed]",
      "text/plain": [
       "<Figure size 640x480 with 1 Axes>"
      ]
     },
     "metadata": {},
     "output_type": "display_data"
    }
   ],
   "source": [
    "# Distribution of age_group kernal density estimation\n",
    "\n",
    "sns.histplot(df[\"age_group\"], kde=True)\n",
    "\n",
    "print('Descriptive statistics', df['age_group'].describe())"
   ]
  },
  {
   "cell_type": "markdown",
   "id": "6bb2dbac-e060-4e7f-b70e-76fdc0dd75a9",
   "metadata": {},
   "source": [
    "### Correlation between variables\n",
    "Statistical measure that describes the strength and direction of linear relationship between numerical variables.\n",
    "This pearson correlation works for numeric data. The correlation coefficient- is a measure of linear correlation between 2 sets of data.\n",
    "    It takes values between -1 and +1. Denoted by r"
   ]
  },
  {
   "cell_type": "code",
   "execution_count": 36,
   "id": "26177543-0570-461c-b305-715dfa328a63",
   "metadata": {},
   "outputs": [
    {
     "data": {
      "text/html": [
       "<div>\n",
       "<style scoped>\n",
       "    .dataframe tbody tr th:only-of-type {\n",
       "        vertical-align: middle;\n",
       "    }\n",
       "\n",
       "    .dataframe tbody tr th {\n",
       "        vertical-align: top;\n",
       "    }\n",
       "\n",
       "    .dataframe thead th {\n",
       "        text-align: right;\n",
       "    }\n",
       "</style>\n",
       "<table border=\"1\" class=\"dataframe\">\n",
       "  <thead>\n",
       "    <tr style=\"text-align: right;\">\n",
       "      <th></th>\n",
       "      <th>age</th>\n",
       "      <th>fnlwgt</th>\n",
       "      <th>education-num</th>\n",
       "      <th>capital-gain</th>\n",
       "      <th>capital-loss</th>\n",
       "      <th>hours-per-week</th>\n",
       "    </tr>\n",
       "  </thead>\n",
       "  <tbody>\n",
       "    <tr>\n",
       "      <th>age</th>\n",
       "      <td>1.000000</td>\n",
       "      <td>-0.076628</td>\n",
       "      <td>0.030940</td>\n",
       "      <td>0.077229</td>\n",
       "      <td>0.056944</td>\n",
       "      <td>0.071558</td>\n",
       "    </tr>\n",
       "    <tr>\n",
       "      <th>fnlwgt</th>\n",
       "      <td>-0.076628</td>\n",
       "      <td>1.000000</td>\n",
       "      <td>-0.038761</td>\n",
       "      <td>-0.003706</td>\n",
       "      <td>-0.004366</td>\n",
       "      <td>-0.013519</td>\n",
       "    </tr>\n",
       "    <tr>\n",
       "      <th>education-num</th>\n",
       "      <td>0.030940</td>\n",
       "      <td>-0.038761</td>\n",
       "      <td>1.000000</td>\n",
       "      <td>0.125146</td>\n",
       "      <td>0.080972</td>\n",
       "      <td>0.143689</td>\n",
       "    </tr>\n",
       "    <tr>\n",
       "      <th>capital-gain</th>\n",
       "      <td>0.077229</td>\n",
       "      <td>-0.003706</td>\n",
       "      <td>0.125146</td>\n",
       "      <td>1.000000</td>\n",
       "      <td>-0.031441</td>\n",
       "      <td>0.082157</td>\n",
       "    </tr>\n",
       "    <tr>\n",
       "      <th>capital-loss</th>\n",
       "      <td>0.056944</td>\n",
       "      <td>-0.004366</td>\n",
       "      <td>0.080972</td>\n",
       "      <td>-0.031441</td>\n",
       "      <td>1.000000</td>\n",
       "      <td>0.054467</td>\n",
       "    </tr>\n",
       "    <tr>\n",
       "      <th>hours-per-week</th>\n",
       "      <td>0.071558</td>\n",
       "      <td>-0.013519</td>\n",
       "      <td>0.143689</td>\n",
       "      <td>0.082157</td>\n",
       "      <td>0.054467</td>\n",
       "      <td>1.000000</td>\n",
       "    </tr>\n",
       "  </tbody>\n",
       "</table>\n",
       "</div>"
      ],
      "text/plain": [
       "                     age    fnlwgt  education-num  capital-gain  capital-loss  \\\n",
       "age             1.000000 -0.076628       0.030940      0.077229      0.056944   \n",
       "fnlwgt         -0.076628  1.000000      -0.038761     -0.003706     -0.004366   \n",
       "education-num   0.030940 -0.038761       1.000000      0.125146      0.080972   \n",
       "capital-gain    0.077229 -0.003706       0.125146      1.000000     -0.031441   \n",
       "capital-loss    0.056944 -0.004366       0.080972     -0.031441      1.000000   \n",
       "hours-per-week  0.071558 -0.013519       0.143689      0.082157      0.054467   \n",
       "\n",
       "                hours-per-week  \n",
       "age                   0.071558  \n",
       "fnlwgt               -0.013519  \n",
       "education-num         0.143689  \n",
       "capital-gain          0.082157  \n",
       "capital-loss          0.054467  \n",
       "hours-per-week        1.000000  "
      ]
     },
     "execution_count": 36,
     "metadata": {},
     "output_type": "execute_result"
    }
   ],
   "source": [
    "numeric_df = df.select_dtypes(include=['int64'])\n",
    "\n",
    "numeric_df\n",
    "\n",
    "numeric_df.corr()"
   ]
  },
  {
   "cell_type": "code",
   "execution_count": 177,
   "id": "96663620-1846-4699-909c-4b698579fc84",
   "metadata": {},
   "outputs": [
    {
     "data": {
      "image/png": "[encoded data removed]",
      "text/plain": [
       "<Figure size 1200x1000 with 7 Axes>"
      ]
     },
     "metadata": {},
     "output_type": "display_data"
    }
   ],
   "source": [
    "numeric_columns = ['age', 'fnlwgt', 'education-num', 'capital-gain',\n",
    "                   'capital-loss', 'hours-per-week', 'income']\n",
    "\n",
    "\n",
    "# Set up the subplots grid\n",
    "rows = 3\n",
    "cols = 3\n",
    "fig, axes = plt.subplots(rows, cols, figsize=(12, 10))\n",
    "axes = axes.flatten()\n",
    "\n",
    "# Create boxplots\n",
    "for i, col in enumerate(numeric_columns):\n",
    "    axes[i].boxplot(df[col].dropna())\n",
    "    axes[i].set_title(col.replace('_', ' ').title())\n",
    "\n",
    "# Remove empty subplots if any\n",
    "for j in range(i+1, len(axes)):\n",
    "    fig.delaxes(axes[j])\n",
    "\n",
    "plt.tight_layout()\n",
    "plt.show()\n"
   ]
  },
  {
   "cell_type": "markdown",
   "id": "5be89f21-8f7a-4f12-b28e-7e746114694f",
   "metadata": {},
   "source": [
    "We observe outliers in all the numeric columns. We use Zscore values to confirm how much data, \n",
    "out of the complete dataset, falls in an outlier range.\n",
    "\n",
    "‘Z-score (also called a standard score) gives an idea of how far from the mean a data point is.\n",
    "But more technically it’s a measure of how many standard deviations below or above the population mean a raw score is.’\n",
    "\n",
    "After calculating the number of rows containing outliers, we find that we would lose 2733 rows taking a threshold value of zscore as 3. \n",
    "This data has 1546 rows with census income less than 50K$ and 1187 rows with higher income than 50K$. Since our dataset is already imbalanced, losing this number of rows with further increase the imbalance, and would be a significant loss if we consider the rows with income higher than 50K$.\n",
    "\n",
    "Hence, we keep the rows and proceed with the next steps."
   ]
  },
  {
   "cell_type": "markdown",
   "id": "22475173-963f-4855-8ef4-ec8348d356bc",
   "metadata": {},
   "source": [
    "Skewness treatment\n",
    "We now proceed with treating skewness in our data, which allows us to fit our data in a symmetric distribution,\n",
    "which further allows our model to learn better.\n",
    "\n",
    "The skewness of the data without any transformation is –\n"
   ]
  },
  {
   "cell_type": "code",
   "execution_count": 178,
   "id": "660f41b5-3f99-41e5-9092-98366eb3af19",
   "metadata": {},
   "outputs": [
    {
     "name": "stdout",
     "output_type": "stream",
     "text": [
      "age                0.557580\n",
      "fnlwgt             1.438892\n",
      "education-num     -0.316525\n",
      "capital-gain      11.894659\n",
      "capital-loss       4.569809\n",
      "hours-per-week     0.238750\n",
      "income             1.222216\n",
      "dtype: float64\n"
     ]
    }
   ],
   "source": [
    "# Only include numeric columns\n",
    "numeric_data = df.select_dtypes(include='number')\n",
    "\n",
    "# Now compute skewness\n",
    "skew_values = numeric_data.skew()\n",
    "\n",
    "print(skew_values)"
   ]
  },
  {
   "cell_type": "markdown",
   "id": "ad404635-a890-47d3-9726-97c763e652e8",
   "metadata": {},
   "source": [
    "We treat ‘Fnlwgt’, ‘Capital_gain’ and ‘Capital_loss’ column for skewness, and use square-root transform and \n",
    "cube-root transform methods (since we cannot apply log and boxcox transform to columns where 0 values are present)\n",
    "log1p(x) is good\tData ≥ 0 with some zeros,Yeo-Johnson is good\tData includes 0s or negatives\n",
    "Square-root (√x): Works well for moderately skewed positive values.\n",
    "Cube-root (∛x): More flexible — can handle zeros and negative values."
   ]
  },
  {
   "cell_type": "markdown",
   "id": "42e8bc00-504c-4ef8-818d-62e516e09e2c",
   "metadata": {},
   "source": [
    "What does skewness mean?\n",
    "Skewness measures the asymmetry of a distribution:\n",
    "Skew = 0 → perfectly symmetrical (normal distribution)\n",
    "Positive skew (> 0) → right tail is longer (more high values/outliers)\n",
    "Negative skew (< 0) → left tail is longer (more low values/outliers)\n",
    "\n",
    "Why apply multiple transformations?\n",
    "When data is highly skewed, transformations (like sqrt, cbrt, log, etc.) help normalize the distribution,\n",
    "improving the performance of models and accuracy of statistical summaries.\n",
    "\n"
   ]
  },
  {
   "cell_type": "code",
   "execution_count": 95,
   "id": "58076ff2-5b99-42b7-a9e3-0d20f49354f7",
   "metadata": {},
   "outputs": [],
   "source": [
    "# Cube-root transform (safe for all values, including negatives)\n",
    "#df['capital_gain_cbrt'] = np.cbrt(df['capital-gain'])\n",
    "#df['capital_loss_cbrt'] = np.cbrt(df['capital-loss'])\n",
    "#df['fnlwgt_sqrt'] = np.sqrt(df['fnlwgt'])\n",
    "# Second cube root (i.e., apply cbrt again)\n",
    "#df['capital_gain_cbrt2'] = np.cbrt(np.cbrt(df['capital-gain']))\n",
    "#df['capital_loss_cbrt2'] = np.cbrt(np.cbrt(df['capital-loss']))"
   ]
  },
  {
   "cell_type": "markdown",
   "id": "ad5c068a-5e41-4d54-94c5-03406d5db047",
   "metadata": {},
   "source": [
    "Why apply twice?\n",
    "For highly skewed variables (e.g., capital-gain with many 0s and few large values), \n",
    "a single transformation may not reduce skewness enough. Applying it twice compresses extreme values even more, helping normalize the distribution."
   ]
  },
  {
   "cell_type": "markdown",
   "id": "e4a7e27d-1d88-4c35-9e62-3526c06bdbd6",
   "metadata": {},
   "source": [
    "The final skewness that we receive after multiple transformations (sqrt transform for Fnlwgt column,\n",
    "and cbrt transform for Capital_gain and Capital_loss columns twice) –"
   ]
  },
  {
   "cell_type": "code",
   "execution_count": 179,
   "id": "dc3d7c5d-3689-4163-9bb6-b368f33911f1",
   "metadata": {},
   "outputs": [
    {
     "name": "stdout",
     "output_type": "stream",
     "text": [
      "age                0.557580\n",
      "fnlwgt             1.438892\n",
      "education-num     -0.316525\n",
      "capital-gain      11.894659\n",
      "capital-loss       4.569809\n",
      "hours-per-week     0.238750\n",
      "income             1.222216\n",
      "dtype: float64\n"
     ]
    }
   ],
   "source": [
    "numeric_data = df.select_dtypes(include='number')\n",
    "# Now compute skewness\n",
    "skew_values = numeric_data.skew()\n",
    "print(skew_values)"
   ]
  },
  {
   "cell_type": "code",
   "execution_count": 180,
   "id": "6a1e0a71-92f3-44d0-90b8-b4f50bc747d3",
   "metadata": {},
   "outputs": [],
   "source": [
    "df['fnlwgt'] = np.sqrt(df['fnlwgt'])\n",
    "# Second cube root (i.e., apply cbrt again)\n",
    "df['capital-gain'] = np.cbrt(np.cbrt(df['capital-gain']))\n",
    "df['capital-loss'] = np.cbrt(np.cbrt(df['capital-loss']))"
   ]
  },
  {
   "cell_type": "code",
   "execution_count": 181,
   "id": "f65f5499-6342-409b-bba8-1406180311c2",
   "metadata": {},
   "outputs": [
    {
     "name": "stdout",
     "output_type": "stream",
     "text": [
      "age               0.557580\n",
      "fnlwgt            0.192303\n",
      "education-num    -0.316525\n",
      "capital-gain      3.120321\n",
      "capital-loss      4.300465\n",
      "hours-per-week    0.238750\n",
      "income            1.222216\n",
      "dtype: float64\n"
     ]
    }
   ],
   "source": [
    "numeric_data = df.select_dtypes(include='number')\n",
    "# Now compute skewness\n",
    "skew_values = numeric_data.skew()\n",
    "print(skew_values)"
   ]
  },
  {
   "cell_type": "markdown",
   "id": "921e06f4-8146-4539-9b29-8e4927c052bd",
   "metadata": {},
   "source": [
    "We further proceed to next steps since the skewness does not get further decreased."
   ]
  },
  {
   "cell_type": "markdown",
   "id": "98ecab50-9349-400c-b190-85f62d3786f1",
   "metadata": {},
   "source": [
    "Encoding the data\n",
    "Since majority of the classification models need input as ‘int/float’,\n",
    "and do not work on ‘string’ data, we encode our categorical columns using ‘Label Encoder’"
   ]
  },
  {
   "cell_type": "code",
   "execution_count": 182,
   "id": "4a94ebfb-506a-4f08-9dc0-b6d76a1e8bea",
   "metadata": {},
   "outputs": [],
   "source": [
    "from sklearn.preprocessing import LabelEncoder\n",
    "\n",
    "# Apply LabelEncoder to all object-type columns\n",
    "for col in df.select_dtypes(include='object').columns:\n",
    "    le = LabelEncoder()\n",
    "    df[col] = le.fit_transform(df[col])"
   ]
  },
  {
   "cell_type": "markdown",
   "id": "89f05b95-ec6a-4cab-9807-5bc8c90d2aa3",
   "metadata": {},
   "source": [
    "The final dataset look like this"
   ]
  },
  {
   "cell_type": "code",
   "execution_count": 183,
   "id": "3f86eb53-a839-4d24-88bc-6e55c528d175",
   "metadata": {},
   "outputs": [
    {
     "data": {
      "text/html": [
       "<div>\n",
       "<style scoped>\n",
       "    .dataframe tbody tr th:only-of-type {\n",
       "        vertical-align: middle;\n",
       "    }\n",
       "\n",
       "    .dataframe tbody tr th {\n",
       "        vertical-align: top;\n",
       "    }\n",
       "\n",
       "    .dataframe thead th {\n",
       "        text-align: right;\n",
       "    }\n",
       "</style>\n",
       "<table border=\"1\" class=\"dataframe\">\n",
       "  <thead>\n",
       "    <tr style=\"text-align: right;\">\n",
       "      <th></th>\n",
       "      <th>age</th>\n",
       "      <th>workclass</th>\n",
       "      <th>fnlwgt</th>\n",
       "      <th>education</th>\n",
       "      <th>education-num</th>\n",
       "      <th>marital-status</th>\n",
       "      <th>occupation</th>\n",
       "      <th>relationship</th>\n",
       "      <th>race</th>\n",
       "      <th>sex</th>\n",
       "      <th>capital-gain</th>\n",
       "      <th>capital-loss</th>\n",
       "      <th>hours-per-week</th>\n",
       "      <th>native-country</th>\n",
       "      <th>income</th>\n",
       "    </tr>\n",
       "  </thead>\n",
       "  <tbody>\n",
       "    <tr>\n",
       "      <th>0</th>\n",
       "      <td>39</td>\n",
       "      <td>4</td>\n",
       "      <td>278.416954</td>\n",
       "      <td>1</td>\n",
       "      <td>13</td>\n",
       "      <td>1</td>\n",
       "      <td>0</td>\n",
       "      <td>1</td>\n",
       "      <td>3</td>\n",
       "      <td>1</td>\n",
       "      <td>2.348587</td>\n",
       "      <td>0.0</td>\n",
       "      <td>40</td>\n",
       "      <td>39</td>\n",
       "      <td>0</td>\n",
       "    </tr>\n",
       "    <tr>\n",
       "      <th>1</th>\n",
       "      <td>50</td>\n",
       "      <td>1</td>\n",
       "      <td>288.636450</td>\n",
       "      <td>1</td>\n",
       "      <td>13</td>\n",
       "      <td>0</td>\n",
       "      <td>3</td>\n",
       "      <td>0</td>\n",
       "      <td>3</td>\n",
       "      <td>1</td>\n",
       "      <td>0.000000</td>\n",
       "      <td>0.0</td>\n",
       "      <td>13</td>\n",
       "      <td>39</td>\n",
       "      <td>0</td>\n",
       "    </tr>\n",
       "    <tr>\n",
       "      <th>2</th>\n",
       "      <td>38</td>\n",
       "      <td>1</td>\n",
       "      <td>464.377002</td>\n",
       "      <td>2</td>\n",
       "      <td>9</td>\n",
       "      <td>2</td>\n",
       "      <td>5</td>\n",
       "      <td>1</td>\n",
       "      <td>3</td>\n",
       "      <td>1</td>\n",
       "      <td>0.000000</td>\n",
       "      <td>0.0</td>\n",
       "      <td>40</td>\n",
       "      <td>39</td>\n",
       "      <td>0</td>\n",
       "    </tr>\n",
       "    <tr>\n",
       "      <th>3</th>\n",
       "      <td>53</td>\n",
       "      <td>1</td>\n",
       "      <td>484.480134</td>\n",
       "      <td>5</td>\n",
       "      <td>7</td>\n",
       "      <td>0</td>\n",
       "      <td>5</td>\n",
       "      <td>0</td>\n",
       "      <td>1</td>\n",
       "      <td>1</td>\n",
       "      <td>0.000000</td>\n",
       "      <td>0.0</td>\n",
       "      <td>40</td>\n",
       "      <td>39</td>\n",
       "      <td>0</td>\n",
       "    </tr>\n",
       "    <tr>\n",
       "      <th>4</th>\n",
       "      <td>28</td>\n",
       "      <td>1</td>\n",
       "      <td>581.729318</td>\n",
       "      <td>1</td>\n",
       "      <td>13</td>\n",
       "      <td>0</td>\n",
       "      <td>9</td>\n",
       "      <td>2</td>\n",
       "      <td>1</td>\n",
       "      <td>0</td>\n",
       "      <td>0.000000</td>\n",
       "      <td>0.0</td>\n",
       "      <td>40</td>\n",
       "      <td>5</td>\n",
       "      <td>0</td>\n",
       "    </tr>\n",
       "  </tbody>\n",
       "</table>\n",
       "</div>"
      ],
      "text/plain": [
       "   age  workclass      fnlwgt  education  education-num  marital-status  \\\n",
       "0   39          4  278.416954          1             13               1   \n",
       "1   50          1  288.636450          1             13               0   \n",
       "2   38          1  464.377002          2              9               2   \n",
       "3   53          1  484.480134          5              7               0   \n",
       "4   28          1  581.729318          1             13               0   \n",
       "\n",
       "   occupation  relationship  race  sex  capital-gain  capital-loss  \\\n",
       "0           0             1     3    1      2.348587           0.0   \n",
       "1           3             0     3    1      0.000000           0.0   \n",
       "2           5             1     3    1      0.000000           0.0   \n",
       "3           5             0     1    1      0.000000           0.0   \n",
       "4           9             2     1    0      0.000000           0.0   \n",
       "\n",
       "   hours-per-week  native-country  income  \n",
       "0              40              39       0  \n",
       "1              13              39       0  \n",
       "2              40              39       0  \n",
       "3              40              39       0  \n",
       "4              40               5       0  "
      ]
     },
     "execution_count": 183,
     "metadata": {},
     "output_type": "execute_result"
    }
   ],
   "source": [
    "df.head()"
   ]
  },
  {
   "cell_type": "markdown",
   "id": "6d1ddcfd-a2e6-44bf-9094-f1cc38bc2d15",
   "metadata": {},
   "source": [
    "Scaling the data\n",
    "The next step is to bring the data to a common scale, since there are certain columns with very small values and some columns with high values. This process is important as values on a similar scale allow the model to learn better.\n",
    "\n",
    "We use standard scaler for this process –\n",
    "‘StandardScaler follows Standard Normal Distribution (SND). Therefore, it makes \n",
    "mean = 0 and scales the data to unit variance’\n"
   ]
  },
  {
   "cell_type": "code",
   "execution_count": 184,
   "id": "ea7a7558-5cd7-4926-8ddb-d5433d351096",
   "metadata": {},
   "outputs": [],
   "source": [
    "from sklearn.preprocessing import StandardScaler\n",
    "sc = StandardScaler()"
   ]
  },
  {
   "cell_type": "markdown",
   "id": "7d56201c-8a88-44f5-b247-cd44861218de",
   "metadata": {},
   "source": [
    "Import and initialize the StandardScaler, which will standardize features by \n",
    "removing the mean and scaling to unit variance."
   ]
  },
  {
   "cell_type": "code",
   "execution_count": 185,
   "id": "d9c65d8d-8c94-435c-af26-e3800237c5a4",
   "metadata": {},
   "outputs": [],
   "source": [
    "# Dividing the dataset into independent and dependent data before scaling\n",
    "ds_x = df.drop('income', axis='columns')\n",
    "y = df['income']"
   ]
  },
  {
   "cell_type": "markdown",
   "id": "6dc05d70-65c5-4055-ba9b-e574683e7f92",
   "metadata": {},
   "source": [
    "ds_x: Contains all columns except 'Income' — this is the independent variable(s).\n",
    "\n",
    "y: Contains only the 'Income' column — this is the dependent variable (target)."
   ]
  },
  {
   "cell_type": "code",
   "execution_count": 186,
   "id": "f38387ff-0319-467b-bccf-ed10aeaaa857",
   "metadata": {},
   "outputs": [],
   "source": [
    "dataset = sc.fit_transform(ds_x)\n",
    "x = pd.DataFrame(dataset, columns=ds_x.columns)"
   ]
  },
  {
   "cell_type": "markdown",
   "id": "94a122cf-c6fc-46f5-9b2e-e97bf64b3756",
   "metadata": {},
   "source": [
    "Fits the scaler on ds_x and then transforms it — this standardizes the independent features.\n",
    "Converts the scaled NumPy array back into a Pandas DataFrame with the original column names preserved."
   ]
  },
  {
   "cell_type": "code",
   "execution_count": 187,
   "id": "eeecea3a-bbc2-47ae-ad48-354825063695",
   "metadata": {},
   "outputs": [
    {
     "name": "stdout",
     "output_type": "stream",
     "text": [
      "            age  workclass    fnlwgt  education  education-num  \\\n",
      "0      0.025996   2.813901 -1.171916  -0.896345       1.136512   \n",
      "1      0.828308  -0.337109 -1.086558  -0.896345       1.136512   \n",
      "2     -0.046942  -0.337109  0.381313  -0.160051      -0.419335   \n",
      "3      1.047121  -0.337109  0.549224   2.048829      -1.197259   \n",
      "4     -0.776316  -0.337109  1.361497  -0.896345       1.136512   \n",
      "...         ...        ...       ...        ...            ...   \n",
      "48837  0.025996  -0.337109  0.379271  -0.896345       1.136512   \n",
      "48838  1.849433  -0.337109  1.237837  -0.160051      -0.419335   \n",
      "48839 -0.046942  -0.337109  1.617327  -0.896345       1.136512   \n",
      "48840  0.390683  -0.337109 -1.078181  -0.896345       1.136512   \n",
      "48841 -0.265754   0.713228  0.067351  -0.896345       1.136512   \n",
      "\n",
      "       marital-status  occupation  relationship      race      sex  \\\n",
      "0            0.315615   -1.550298      0.624656  0.394687  0.70422   \n",
      "1           -0.965467   -0.794402     -1.130274  0.394687  0.70422   \n",
      "2            1.596696   -0.290471      0.624656  0.394687  0.70422   \n",
      "3           -0.965467   -0.290471     -1.130274 -2.209826  0.70422   \n",
      "4           -0.965467    0.717391      2.379587 -2.209826 -1.42001   \n",
      "...               ...         ...           ...       ...      ...   \n",
      "48837        1.596696    0.717391      0.624656  0.394687 -1.42001   \n",
      "48838        1.596696    0.717391      0.624656 -2.209826  0.70422   \n",
      "48839       -0.965467    0.717391     -1.130274  0.394687  0.70422   \n",
      "48840        1.596696   -1.550298      0.624656 -3.512083  0.70422   \n",
      "48841       -0.965467   -0.794402     -1.130274  0.394687  0.70422   \n",
      "\n",
      "       capital-gain  capital-loss  hours-per-week  native-country  \n",
      "0          2.859508     -0.221309       -0.034087        0.279469  \n",
      "1         -0.297827     -0.221309       -2.213032        0.279469  \n",
      "2         -0.297827     -0.221309       -0.034087        0.279469  \n",
      "3         -0.297827     -0.221309       -0.034087        0.279469  \n",
      "4         -0.297827     -0.221309       -0.034087       -4.397016  \n",
      "...             ...           ...             ...             ...  \n",
      "48837     -0.297827     -0.221309       -0.356894        0.279469  \n",
      "48838     -0.297827     -0.221309       -0.034087        0.279469  \n",
      "48839     -0.297827     -0.221309        0.772930        0.279469  \n",
      "48840      3.199316     -0.221309       -0.034087        0.279469  \n",
      "48841     -0.297827     -0.221309        1.579946        0.279469  \n",
      "\n",
      "[48842 rows x 14 columns]\n"
     ]
    }
   ],
   "source": [
    "print (x)"
   ]
  },
  {
   "cell_type": "markdown",
   "id": "96a497b9-a71a-4050-ad10-3971c4573895",
   "metadata": {},
   "source": [
    "### Fitting data into classification models\n",
    "We now proceed to the main step of our machine learning, fitting the model and predicting the outputs.\n",
    "We fit the data into multiple classification models to compare the performance of all models and select the best model"
   ]
  },
  {
   "cell_type": "code",
   "execution_count": null,
   "id": "00d34a58-541f-49c4-9254-34eecdcd7e37",
   "metadata": {},
   "outputs": [],
   "source": [
    "# importing required modules\n",
    "from sklearn.tree import DecisionTreeClassifier\n",
    "from sklearn.naive_bayes import GaussianNB\n",
    "from sklearn.linear_model import LogisticRegression\n",
    "from sklearn.svm import SVC\n",
    "from sklearn.neighbors import KNeighborsClassifier\n",
    "from sklearn.model_selection import train_test_split\n",
    "from sklearn.metrics import accuracy_score, classification_report, confusion_matrix"
   ]
  },
  {
   "cell_type": "markdown",
   "id": "d2ef72a4-28b2-4176-8a81-6ae091964b6c",
   "metadata": {},
   "source": [
    "Classification Models:\n",
    "DecisionTreeClassifier\n",
    "GaussianNB (Naive Bayes)\n",
    "LogisticRegression\n",
    "SVC (Support Vector Classifier)\n",
    "KNeighborsClassifier\n",
    "Utilities for model evaluation:\n",
    "train_test_split: To split the dataset into training and testing subsets.\n",
    "accuracy_score, classification_report, confusion_matrix: For model performance evaluation."
   ]
  },
  {
   "cell_type": "code",
   "execution_count": null,
   "id": "5e1888f7-d89b-4811-8f14-b7d4dab40588",
   "metadata": {},
   "outputs": [],
   "source": [
    "#creating model instances\n",
    "dt = DecisionTreeClassifier()\n",
    "gnb = GaussianNB()\n",
    "svc = SVC()\n",
    "knn = KNeighborsClassifier()\n",
    "lg = LogisticRegression()"
   ]
  },
  {
   "cell_type": "code",
   "execution_count": 147,
   "id": "e05636c6-c731-4248-aa7d-85723cef176a",
   "metadata": {},
   "outputs": [
    {
     "name": "stdout",
     "output_type": "stream",
     "text": [
      "GaussianNB()\n",
      "Accuracy score for train data 0.8041356718760664\n",
      "Accuracy score for test data 0.8062242241656673\n",
      "              precision    recall  f1-score   support\n",
      "\n",
      "           0       0.88      0.87      0.87     11223\n",
      "           1       0.58      0.60      0.59      3430\n",
      "\n",
      "    accuracy                           0.80     14653\n",
      "   macro avg       0.73      0.73      0.73     14653\n",
      "weighted avg       0.81      0.80      0.81     14653\n",
      "\n",
      "[[9717 1506]\n",
      " [1364 2066]]\n",
      "-------------------------\n",
      "LogisticRegression()\n",
      "Accuracy score for train data 0.8295229645806319\n",
      "Accuracy score for test data 0.8346544210126063\n",
      "              precision    recall  f1-score   support\n",
      "\n",
      "           0       0.86      0.93      0.89     11223\n",
      "           1       0.68      0.50      0.58      3430\n",
      "\n",
      "    accuracy                           0.83     14653\n",
      "   macro avg       0.77      0.72      0.74     14653\n",
      "weighted avg       0.82      0.83      0.82     14653\n",
      "\n",
      "[[10428   795]\n",
      " [ 1703  1727]]\n",
      "-------------------------\n"
     ]
    }
   ],
   "source": [
    "# importing required modules\n",
    "from sklearn.tree import DecisionTreeClassifier\n",
    "from sklearn.naive_bayes import GaussianNB\n",
    "from sklearn.linear_model import LogisticRegression\n",
    "from sklearn.svm import SVC\n",
    "from sklearn.neighbors import KNeighborsClassifier\n",
    "from sklearn.model_selection import train_test_split\n",
    "from sklearn.metrics import accuracy_score, classification_report, confusion_matrix\n",
    "\n",
    "dt = DecisionTreeClassifier()\n",
    "gnb = GaussianNB()\n",
    "svc = SVC()\n",
    "knn = KNeighborsClassifier()\n",
    "lg = LogisticRegression()\n",
    "x_train, x_test, y_train, y_test = train_test_split(x, y, test_size=0.3, random_state=11)\n",
    "for i in [dt, gnb,svc, knn, lg]:\n",
    "    i.fit(x_train, y_train)\n",
    "    pred = i.predict(x_test)\n",
    "    test_score = accuracy_score(y_test, pred)\n",
    "    train_score = accuracy_score(y_train, i.predict(x_train))\n",
    "\n",
    "    if abs(train_score - test_score) <= 0.01:\n",
    "        print(i)\n",
    "        print('Accuracy score for train data', accuracy_score(y_test, pred))\n",
    "        print('Accuracy score for test data', accuracy_score(y_train, i.predict(x_train)))\n",
    "        print(classification_report(y_test, pred)) \n",
    "        print(confusion_matrix(y_test, pred))\n",
    "        print('-------------------------')"
   ]
  },
  {
   "cell_type": "code",
   "execution_count": 148,
   "id": "3b1e7973-b8a7-4f98-82b9-6528d3cb27fd",
   "metadata": {},
   "outputs": [
    {
     "name": "stdout",
     "output_type": "stream",
     "text": [
      "                 Model  Train Accuracy  Test Accuracy  Difference\n",
      "2                  SVC        0.855626       0.842285    0.013341\n",
      "4  Logistic Regression        0.834654       0.829523    0.005131\n",
      "3                  KNN        0.877153       0.828090    0.049064\n",
      "0        Decision Tree        0.999942       0.811028    0.188913\n",
      "1          Naive Bayes        0.806224       0.804136    0.002089\n"
     ]
    }
   ],
   "source": [
    "from sklearn.metrics import accuracy_score, classification_report, confusion_matrix\n",
    "import pandas as pd\n",
    "\n",
    "# Initialize an empty list to store results\n",
    "results = []\n",
    "\n",
    "# List of models with names\n",
    "models = [\n",
    "    ('Decision Tree', dt),\n",
    "    ('Naive Bayes', gnb),\n",
    "    ('SVC', svc),\n",
    "    ('KNN', knn),\n",
    "    ('Logistic Regression', lg)\n",
    "]\n",
    "\n",
    "# Loop through each model\n",
    "for name, model in models:\n",
    "    model.fit(x_train, y_train)\n",
    "    y_pred = model.predict(x_test)\n",
    "    \n",
    "    train_acc = accuracy_score(y_train, model.predict(x_train))\n",
    "    test_acc = accuracy_score(y_test, y_pred)\n",
    "    diff = abs(train_acc - test_acc)\n",
    "    \n",
    "    # Store metrics in dictionary format\n",
    "    results.append({\n",
    "        'Model': name,\n",
    "        'Train Accuracy': train_acc,\n",
    "        'Test Accuracy': test_acc,\n",
    "        'Difference': diff,\n",
    "        'Confusion Matrix': confusion_matrix(y_test, y_pred),\n",
    "        'Classification Report': classification_report(y_test, y_pred, output_dict=False)\n",
    "    })\n",
    "\n",
    "# Convert results list into DataFrame\n",
    "results_df = pd.DataFrame(results)\n",
    "\n",
    "# Sort by test accuracy (or by Difference if you're checking overfitting)\n",
    "results_df_sorted = results_df.sort_values(by='Test Accuracy', ascending=False)\n",
    "\n",
    "# Display the sorted DataFrame\n",
    "print(results_df_sorted[['Model', 'Train Accuracy', 'Test Accuracy', 'Difference']])"
   ]
  },
  {
   "cell_type": "markdown",
   "id": "019bdb54-09e7-485b-a8e2-a8c092cc21ee",
   "metadata": {},
   "source": [
    "How to Interpret\n",
    " 1. SVC (Support Vector Classifier)\n",
    "High accuracy on both train and test sets.\n",
    "\n",
    "Low difference (~0.013): means the model generalizes well.\n",
    "Rank: Strong candidate.\n",
    "\n",
    "2. Logistic Regression\n",
    "Very balanced performance (train ≈ test).\n",
    "\n",
    "Lowest overfitting (Difference = 0.005).\n",
    "\n",
    "Slightly lower accuracy than SVC, but extremely reliable.\n",
    "\n",
    "Rank: Also an excellent model.\n",
    "\n",
    " 3. KNN (K-Nearest Neighbors)\n",
    "High training accuracy, decent test accuracy.\n",
    "\n",
    "Moderate overfitting (Difference = 0.049).\n",
    "\n",
    "May need tuning (e.g., choosing better k or scaling features).\n",
    "\n",
    "Rank: Decent, but less stable.\n",
    " 4. Decision Tree\n",
    "Almost perfect training accuracy (0.9999) — clear sign of overfitting.\n",
    "\n",
    "Test accuracy drops significantly (0.811).\n",
    "\n",
    "High difference (0.1889): it memorizes training data but doesn't generalize.\n",
    "\n",
    "Rank: Not good without regularization (try pruning or setting max_depth).\n",
    " 5. Naive Bayes\n",
    "Lower accuracy overall but almost no overfitting (Difference = 0.002).\n",
    "\n",
    "Extremely stable model; performance is consistent.\n",
    "\n",
    "Rank: Great when simplicity and stability are preferred.\n",
    " Summary Recommendations\n",
    "Use Case\tBest Model\n",
    "Best Accuracy & Generalization\tSVC\n",
    "Most Balanced & Stable\tLogistic Regression\n",
    "Low Overfitting (Very Stable)\tNaive Bayes\n",
    "Needs Tuning\tKNN\n",
    "Avoid Overfitting\t❌ Decision Tree (without tuning)"
   ]
  },
  {
   "cell_type": "code",
   "execution_count": 149,
   "id": "07ccb220-bca9-4971-8128-37167f21274d",
   "metadata": {},
   "outputs": [
    {
     "data": {
      "image/png": "[encoded data removed]",
      "text/plain": [
       "<Figure size 1200x600 with 1 Axes>"
      ]
     },
     "metadata": {},
     "output_type": "display_data"
    },
    {
     "data": {
      "image/png": "[encoded data removed]",
      "text/plain": [
       "<Figure size 1000x500 with 1 Axes>"
      ]
     },
     "metadata": {},
     "output_type": "display_data"
    }
   ],
   "source": [
    "import matplotlib.pyplot as plt\n",
    "import pandas as pd\n",
    "\n",
    "# Model performance data\n",
    "data = {\n",
    "    'Model': ['SVC', 'Logistic Regression', 'KNN', 'Decision Tree', 'Naive Bayes'],\n",
    "    'Train Accuracy': [0.855626, 0.834654, 0.877153, 0.999942, 0.806224],\n",
    "    'Test Accuracy': [0.842285, 0.829523, 0.828090, 0.811028, 0.804136],\n",
    "    'Difference': [0.013341, 0.005131, 0.049064, 0.188913, 0.002089]\n",
    "}\n",
    "\n",
    "# Create DataFrame\n",
    "df = pd.DataFrame(data)\n",
    "\n",
    "# =============================\n",
    "# Bar Chart 1: Train vs Test Accuracy\n",
    "# =============================\n",
    "plt.figure(figsize=(12, 6))\n",
    "bar_width = 0.35\n",
    "index = range(len(df))\n",
    "\n",
    "plt.bar(index, df['Train Accuracy'], bar_width, label='Train Accuracy', color='skyblue')\n",
    "plt.bar([i + bar_width for i in index], df['Test Accuracy'], bar_width, label='Test Accuracy', color='salmon')\n",
    "\n",
    "plt.xlabel('Model')\n",
    "plt.ylabel('Accuracy')\n",
    "plt.title('Train vs Test Accuracy by Model')\n",
    "plt.xticks([i + bar_width / 2 for i in index], df['Model'], rotation=45)\n",
    "plt.legend()\n",
    "plt.tight_layout()\n",
    "plt.show()\n",
    "\n",
    "# =============================\n",
    "# Bar Chart 2: Overfitting Gap\n",
    "# =============================\n",
    "plt.figure(figsize=(10, 5))\n",
    "plt.bar(df['Model'], df['Difference'], color='orange')\n",
    "\n",
    "plt.xlabel('Model')\n",
    "plt.ylabel('Train-Test Accuracy Gap')\n",
    "plt.title('Overfitting Indicator (Train - Test Accuracy)')\n",
    "plt.xticks(rotation=45)\n",
    "plt.tight_layout()\n",
    "plt.show()"
   ]
  },
  {
   "cell_type": "markdown",
   "id": "d866e842-1ccf-467b-ab89-c5007a4bc494",
   "metadata": {},
   "source": [
    "Here's a bar chart comparing Train vs Test Accuracy for each model:\n",
    "\n",
    "SVC and Logistic Regression show very close performance between train and test sets—this is a sign of good generalization.\n",
    "Decision Tree has a huge gap, indicating overfitting.\n",
    "Naive Bayes has the most consistent performance, though at slightly lower accuracy.\n",
    "\n",
    "KNN performs well on training data but has a noticeable drop on test data.\n",
    "Here's the bar chart showing the Train-Test Accuracy Gap, which visualizes overfitting:\n",
    "Decision Tree has the largest gap — it's clearly overfitting.\n",
    "KNN has a moderate gap — it may overfit slightly depending on k.\n",
    "Naive Bayes, Logistic Regression, and SVC have small gaps — indicating better generalization."
   ]
  },
  {
   "cell_type": "code",
   "execution_count": null,
   "id": "e631f128-4fdb-48ef-ba3d-5b5bcd08b81a",
   "metadata": {},
   "outputs": [],
   "source": [
    "We achieve the best results using — ‘Support Vector Classifier’,\n",
    "which provides an accuracy of 85% on test data. Below is the classification report for the SVC model –"
   ]
  },
  {
   "cell_type": "code",
   "execution_count": 228,
   "id": "027e7904-883c-4d77-b50d-1a4851106d14",
   "metadata": {},
   "outputs": [
    {
     "name": "stdout",
     "output_type": "stream",
     "text": [
      "✅ Logistic Regression\n",
      "Train Accuracy: 0.8346544210126063\n",
      "Test Accuracy: 0.8295229645806319\n",
      "\n",
      "Classification Report:\n",
      "              precision    recall  f1-score   support\n",
      "\n",
      "           0       0.86      0.93      0.89     11223\n",
      "           1       0.68      0.50      0.58      3430\n",
      "\n",
      "    accuracy                           0.83     14653\n",
      "   macro avg       0.77      0.72      0.74     14653\n",
      "weighted avg       0.82      0.83      0.82     14653\n",
      "\n",
      "Confusion Matrix:\n",
      "[[10428   795]\n",
      " [ 1703  1727]]\n",
      "-------------------------\n",
      "\n"
     ]
    }
   ],
   "source": [
    "\n",
    "# Define models with names\n",
    "lg = ('Logistic Regression', LogisticRegression(max_iter=1000))\n",
    "svc = ('SVM', SVC(probability=True))  # Added probability=True for future use if needed\n",
    "rf =  ('Random Forest', RandomForestClassifier())\n",
    "xg = ('XGBoost', XGBClassifier(use_label_encoder=False, eval_metric='logloss'))\n",
    "nn = ('Neural Network', MLPClassifier(max_iter=1000))\n",
    "\n",
    "# Data split\n",
    "x_train, x_test, y_train, y_test = train_test_split(x, y, test_size=0.3, random_state=11)\n",
    "\n",
    "# Iterate through selected models\n",
    "for name, model in [lg]:\n",
    "    model.fit(x_train, y_train)\n",
    "    \n",
    "    pred_test = model.predict(x_test)\n",
    "    pred_train = model.predict(x_train)\n",
    "    \n",
    "    test_score = accuracy_score(y_test, pred_test)\n",
    "    train_score = accuracy_score(y_train, pred_train)\n",
    "\n",
    "    if abs(train_score - test_score) <= 0.01:\n",
    "        print(f'✅ {name}')\n",
    "        print('Train Accuracy:', train_score)\n",
    "        print('Test Accuracy:', test_score)\n",
    "        print('\\nClassification Report:')\n",
    "        print(classification_report(y_test, pred_test))\n",
    "        print('Confusion Matrix:')\n",
    "        print(confusion_matrix(y_test, pred_test))\n",
    "        print('-------------------------\\n')"
   ]
  },
  {
   "cell_type": "code",
   "execution_count": null,
   "id": "af19948f-8555-4d7d-93e5-36e8df8665be",
   "metadata": {},
   "outputs": [],
   "source": [
    "RandomForest Clasiifier():"
   ]
  },
  {
   "cell_type": "code",
   "execution_count": 227,
   "id": "f50f5e93-3855-40cf-8ee1-e4b52d94b702",
   "metadata": {},
   "outputs": [
    {
     "name": "stdout",
     "output_type": "stream",
     "text": [
      " test Accuracy: 0.8529311403808094\n",
      " train Accuracy: 0.9998537541314458\n",
      "Classification Report:\n",
      "               precision    recall  f1-score   support\n",
      "\n",
      "           0       0.88      0.93      0.91     11109\n",
      "           1       0.73      0.62      0.67      3544\n",
      "\n",
      "    accuracy                           0.85     14653\n",
      "   macro avg       0.81      0.77      0.79     14653\n",
      "weighted avg       0.85      0.85      0.85     14653\n",
      "\n",
      "Confusion Matrix:\n",
      " [[10318   791]\n",
      " [ 1364  2180]]\n"
     ]
    }
   ],
   "source": [
    "# x = features, y = target\n",
    "x_train, x_test, y_train, y_test = train_test_split(x, y, test_size=0.3, random_state=42)\n",
    "rf_model = RandomForestClassifier(n_estimators=100, max_depth=None, random_state=42)\n",
    "rf_model.fit(x_train, y_train)\n",
    "pred_test = rf_model.predict(x_test)\n",
    "pred_train = rf_model.predict(x_train)\n",
    "test_score=accuracy_score(y_test, pred_test)\n",
    "train_score=accuracy_score(y_train,pred_train)\n",
    "print(\" test Accuracy:\", accuracy_score(y_test,pred_test))\n",
    "print(\" train Accuracy:\", accuracy_score(y_train,pred_train))\n",
    "print(\"Classification Report:\\n\", classification_report(y_test, pred_test))\n",
    "print(\"Confusion Matrix:\\n\", confusion_matrix(y_test, pred_test))"
   ]
  },
  {
   "cell_type": "code",
   "execution_count": 234,
   "id": "19cd572e-ec22-4ea5-a846-7c7ced3f2c05",
   "metadata": {},
   "outputs": [
    {
     "data": {
      "image/png": "[encoded data removed]",
      "text/plain": [
       "<Figure size 640x480 with 1 Axes>"
      ]
     },
     "metadata": {},
     "output_type": "display_data"
    },
    {
     "data": {
      "image/png": "[encoded data removed]",
      "text/plain": [
       "<Figure size 600x400 with 2 Axes>"
      ]
     },
     "metadata": {},
     "output_type": "display_data"
    }
   ],
   "source": [
    "import matplotlib.pyplot as plt\n",
    "import seaborn as sns\n",
    "from sklearn.metrics import confusion_matrix, ConfusionMatrixDisplay\n",
    "\n",
    "# 1. Make predictions (if not done already)\n",
    "y_pred = rf_model.predict(x_test)\n",
    "\n",
    "# 2. Generate confusion matrix\n",
    "cm = confusion_matrix(y_test, y_pred)\n",
    "fig,ax=plt.subplots()\n",
    "labels = rf_model.classes_  # This gives the class labels\n",
    "\n",
    "# 3. Plot using seaborn heatmap\n",
    "plt.figure(figsize=(6, 4))\n",
    "sns.heatmap(pd.DataFrame(cm), annot=True, fmt='d', cmap='Blues', xticklabels=labels, yticklabels=labels)\n",
    "ax.xaxis.set_label_position('top')\n",
    "plt.xlabel('Predicted')\n",
    "plt.ylabel('Actual')\n",
    "plt.title('Confusion Matrix - Random Forest')\n",
    "plt.show()"
   ]
  },
  {
   "cell_type": "code",
   "execution_count": 188,
   "id": "fea3e143-dc35-47ad-a892-4c96d233da8c",
   "metadata": {},
   "outputs": [
    {
     "name": "stderr",
     "output_type": "stream",
     "text": [
      "C:\\Users\\19736\\anaconda3\\Lib\\site-packages\\xgboost\\training.py:183: UserWarning: [11:24:38] WARNING: C:\\actions-runner\\_work\\xgboost\\xgboost\\src\\learner.cc:738: \n",
      "Parameters: { \"use_label_encoder\" } are not used.\n",
      "\n",
      "  bst.update(dtrain, iteration=i, fobj=obj)\n"
     ]
    },
    {
     "name": "stdout",
     "output_type": "stream",
     "text": [
      "                 Model  Train Accuracy  Test Accuracy  Difference\n",
      "3              XGBoost        0.901869       0.869720    0.032150\n",
      "2        Random Forest        0.999883       0.853955    0.145928\n",
      "4       Neural Network        0.865366       0.846721    0.018645\n",
      "1                  SVM        0.855802       0.843991    0.011811\n",
      "0  Logistic Regression        0.834654       0.828977    0.005677\n"
     ]
    }
   ],
   "source": [
    "# Split data\n",
    "x_train, x_test, y_train, y_test = train_test_split(x, y, test_size=0.3, random_state=42)\n",
    "\n",
    "# Models with names\n",
    "models = [\n",
    "    ('Logistic Regression', LogisticRegression(max_iter=1000)),\n",
    "    ('SVM', SVC()),\n",
    "    ('Random Forest', RandomForestClassifier()),\n",
    "    ('XGBoost', XGBClassifier(use_label_encoder=False, eval_metric='logloss')),\n",
    "    ('Neural Network', MLPClassifier(max_iter=1000))\n",
    "    ]\n",
    "\n",
    "# Store results\n",
    "results = []\n",
    "\n",
    "for name, model in models:\n",
    "    model.fit(x_train, y_train)\n",
    "    y_pred = model.predict(x_test)\n",
    "    \n",
    "    train_acc = accuracy_score(y_train, model.predict(x_train))\n",
    "    test_acc = accuracy_score(y_test, y_pred)\n",
    "    diff = abs(train_acc - test_acc)\n",
    "    \n",
    "    results.append({\n",
    "        'Model': name,\n",
    "        'Train Accuracy': train_acc,\n",
    "        'Test Accuracy': test_acc,\n",
    "        'Difference': diff,\n",
    "        'Confusion Matrix': confusion_matrix(y_test, y_pred),\n",
    "        'Classification Report': classification_report(y_test, y_pred, output_dict=False)\n",
    "    })\n",
    "\n",
    "# Create DataFrame\n",
    "results_df = pd.DataFrame(results)\n",
    "\n",
    "# Display sorted by Test Accuracy\n",
    "print(results_df[['Model', 'Train Accuracy', 'Test Accuracy', 'Difference']].sort_values(by='Test Accuracy', ascending=False))"
   ]
  },
  {
   "cell_type": "markdown",
   "id": "ba70851e-2a74-4a05-af34-2541458eb800",
   "metadata": {},
   "source": [
    "Model\t            Train Accuracy\tTest Accuracy\tDifference\tInterpretation\n",
    "XGBoost  \t         0.9019\t         0.8697\t        0.0322\t    Strong performer, relatively small gap suggests moderate overfitting, \n",
    "                                                                but still generalizes well.\n",
    "Random Forest\t     0.9999\t         0.8540\t        0.1459\t    Extremely high train accuracy but big drop on test set: severe overfitting.\n",
    "Neural Network\t     0.8654      \t 0.8467\t        0.0186\t    Good balance between train/test: well-generalized model.\n",
    "SVM\t                 0.8558\t         0.8440\t        0.0118\t     Low variance (very little overfitting), but slightly less powerful than top models.\n",
    "Logistic Regression\t 0.8347\t         0.8290\t        0.0057\t     Most consistent train/test, but also the lowest overall accuracy. Likely underfitting."
   ]
  },
  {
   "cell_type": "markdown",
   "id": "41f8620a-9324-4dfd-bcfa-0e094df62214",
   "metadata": {},
   "source": [
    "Key Takeaways\n",
    "Best generalizer:\n",
    "\n",
    "Neural Network and SVM have low difference between train/test scores, suggesting stable performance.\n",
    "\n",
    "XGBoost has high accuracy and a manageable overfit margin, making it very competitive.\n",
    "\n",
    "Worst overfitting:\n",
    "\n",
    "Random Forest is highly overfit. Near-perfect training accuracy means it's memorizing the training data, but this doesn't translate to test performance.\n",
    "\n",
    "Least overfit but underpowered:\n",
    "\n",
    "Logistic Regression is very consistent but performs the worst, likely because it's too simple for the complexity of the problem."
   ]
  },
  {
   "cell_type": "markdown",
   "id": "f991c066-bded-42bc-89a7-1ae463198147",
   "metadata": {},
   "source": [
    "Recommendations\n",
    "Use XGBoost or Neural Network as final model choices.\n",
    "Avoid Random Forest unless regularized or tuned better (e.g., limit tree depth, reduce number of estimators).\n",
    "Consider feature engineering or regularization if you aim to boost simpler models like logistic regression or SVM."
   ]
  },
  {
   "cell_type": "markdown",
   "id": "48c395b3-ce93-4cdb-8abc-7cf9350c96ea",
   "metadata": {},
   "source": [
    "XGBoost has high accuracy and a manageable overfit margin, making it very competitive.we choose xgboost\n",
    "as our final model and proceed with hypertuning the model. But before this,\n",
    "we perform k-folds cross validation on our dataset."
   ]
  },
  {
   "cell_type": "markdown",
   "id": "a7d3b637-ef23-4e4a-901e-b2cd049a8ef0",
   "metadata": {},
   "source": [
    "Cross validation\n",
    "The goal of cross-validation is to test the model’s ability to predict new data that was not used in estimating it,\n",
    "in order to flag problems like overfitting or selection bias and to give an insight \n",
    "on how the model will generalize to an independent dataset (i.e., an unknown dataset, for instance from a real problem).\n",
    "We obtain the following results using cross-validation –\n"
   ]
  },
  {
   "cell_type": "code",
   "execution_count": 196,
   "id": "580fc222-45ab-4e11-aeeb-11f852acc79b",
   "metadata": {},
   "outputs": [
    {
     "name": "stdout",
     "output_type": "stream",
     "text": [
      "CV=2, Mean Accuracy: 0.8677\n",
      "CV=3, Mean Accuracy: 0.8686\n",
      "CV=4, Mean Accuracy: 0.8699\n",
      "CV=5, Mean Accuracy: 0.8702\n",
      "CV=6, Mean Accuracy: 0.8697\n",
      "CV=7, Mean Accuracy: 0.8700\n",
      "CV=8, Mean Accuracy: 0.8702\n"
     ]
    }
   ],
   "source": [
    "from sklearn.model_selection import cross_val_score\n",
    "from xgboost import XGBClassifier\n",
    "\n",
    "for i in range(2, 9):\n",
    "    scores = cross_val_score(XGBClassifier(eval_metric='logloss'), x, y, cv=i)\n",
    "    print(f\"CV={i}, Mean Accuracy: {scores.mean():.4f}\")"
   ]
  },
  {
   "cell_type": "code",
   "execution_count": null,
   "id": "9f333c39-3706-4426-ba10-8d5cb9505ef0",
   "metadata": {},
   "outputs": [],
   "source": [
    "This helps us interpret that the model is not overfitting and will perform well\n",
    "    for new data that we feed to our model. We now proceed with hypertuning the model, using GridSearch CV."
   ]
  },
  {
   "cell_type": "code",
   "execution_count": 200,
   "id": "810561c4-b715-4544-9f6f-11922f03cc78",
   "metadata": {},
   "outputs": [
    {
     "name": "stdout",
     "output_type": "stream",
     "text": [
      "{'gamma': 0, 'learning_rate': 0.1, 'max_depth': 5, 'min_child_weight': 1, 'n_estimators': 100}\n"
     ]
    }
   ],
   "source": [
    "from sklearn.model_selection import GridSearchCV\n",
    "from xgboost import XGBClassifier\n",
    "\n",
    "params = {\n",
    "    'learning_rate': [0.1, 0.01],\n",
    "    'max_depth': [3, 4, 5],\n",
    "    'min_child_weight': [1, 2],\n",
    "    'gamma': [0, 1],  # Optional, to control split\n",
    "    'n_estimators': [10, 50, 100]\n",
    "}\n",
    "\n",
    "gcv = GridSearchCV(XGBClassifier(eval_metric='logloss'), params, cv=5)\n",
    "res = gcv.fit(x_train, y_train)\n",
    "\n",
    "print(res.best_params_)"
   ]
  },
  {
   "cell_type": "code",
   "execution_count": null,
   "id": "dd8b81a7-2492-4ee0-b8b8-10598ed215d8",
   "metadata": {},
   "outputs": [],
   "source": [
    "from xgboost import XGBClassifier\n",
    "from sklearn.model_selection import GridSearchCV\n",
    "from sklearn.metrics import accuracy_score, classification_report, confusion_matrix\n",
    "\n",
    "param_grid = {\n",
    "    'n_estimators': [100, 200],\n",
    "    'max_depth': [3, 5, 7],\n",
    "    'learning_rate': [0.01, 0.1],\n",
    "    'subsample': [0.8, 1],\n",
    "    'colsample_bytree': [0.8, 1]\n",
    "    }\n",
    "xgb = XGBClassifier(use_label_encoder=False, eval_metric='logloss', random_state=42)\n",
    "\n",
    "grid_search = GridSearchCV(\n",
    "    estimator=xgb,\n",
    "    param_grid=param_grid,\n",
    "    cv=3,\n",
    "    scoring='accuracy',\n",
    "    n_jobs=-1,\n",
    "    verbose=2\n",
    ")\n",
    "grid_search.fit(x_train, y_train)\n",
    "print(\"Best Parameters:\", grid_search.best_params_)\n",
    "best_xgb = grid_search.best_estimator_\n",
    "y_pred = best_xgb.predict(x_test)\n",
    "\n",
    "print(\"Accuracy:\", accuracy_score(y_test, y_pred))\n",
    "print(\"Classification Report:\\n\", classification_report(y_test, y_pred))\n",
    "print(\"Confusion Matrix:\\n\", confusion_matrix(y_test, y_pred))\n"
   ]
  },
  {
   "cell_type": "markdown",
   "id": "aa9346b4-5e8f-428e-8b88-27d0418f242c",
   "metadata": {},
   "source": [
    "We now save the model with best parameters that we identified using GridSearch,\n",
    "and create an object for our model using ‘Joblib’."
   ]
  },
  {
   "cell_type": "code",
   "execution_count": 202,
   "id": "f926104b-4a2e-4811-b110-6bac5b3be2c9",
   "metadata": {},
   "outputs": [
    {
     "data": {
      "text/plain": [
       "['census_income.obj']"
      ]
     },
     "execution_count": 202,
     "metadata": {},
     "output_type": "execute_result"
    }
   ],
   "source": [
    "import joblib\n",
    "from xgboost import XGBClassifier\n",
    "\n",
    "# Suppose you've trained your model like this:\n",
    "model_final = XGBClassifier()\n",
    "model_final.fit(x_train, y_train)\n",
    "\n",
    "# Save the trained model\n",
    "joblib.dump(model_final, 'census_income.obj')"
   ]
  },
  {
   "cell_type": "markdown",
   "id": "257e119d-cf50-451b-a3ef-d781fe8482e3",
   "metadata": {},
   "source": [
    "AUC ROC curve\n",
    "AUC — ROC curve is a performance measurement for the classification problems at various threshold settings.\n",
    "ROC is a probability curve and AUC represents the degree or measure of separability. It tells how much the model is \n",
    "capable of distinguishing between classes. Higher the AUC, the better the model is at predicting 0’s as 0’s and 1’s as 1’s.\n",
    "\n",
    "We draw the AUC-ROC curve to obtain the following output –"
   ]
  },
  {
   "cell_type": "code",
   "execution_count": null,
   "id": "b76e6a4b-9edc-4c9c-badc-4ab5279a3170",
   "metadata": {},
   "outputs": [],
   "source": [
    "from sklearn.metrics import roc_auc_score, roc_curve\n",
    "import matplotlib.pyplot as plt\n",
    "\n",
    "# Predict probabilities\n",
    "nb_probs = model.predict_proba(x_test)[:, 1]\n",
    "\n",
    "# Baseline (random guess)\n",
    "ns_probs = [0 for _ in range(len(y_test))]\n",
    "\n",
    "# AUC Scores\n",
    "ns_auc = roc_auc_score(y_test, ns_probs)\n",
    "nb_auc = roc_auc_score(y_test, nb_probs)\n",
    "print('Random Prediction: ROC AUC=%.3f' % (ns_auc))\n",
    "print('Naive Bayes: ROC AUC=%.3f' % (nb_auc))\n",
    "\n",
    "# ROC Curves\n",
    "ns_fpr, ns_tpr, _ = roc_curve(y_test, ns_probs)\n",
    "nb_fpr, nb_tpr, _ = roc_curve(y_test, nb_probs)\n",
    "\n",
    "# Plot\n",
    "plt.figure(figsize=(8, 6))\n",
    "plt.plot(ns_fpr, ns_tpr, linestyle='--', color='gray', label='Random: AUC = %.3f' % ns_auc)\n",
    "plt.plot(nb_fpr, nb_tpr, linestyle='-', color='blue', label='XGBoost: AUC = %.3f' % nb_auc)\n",
    "plt.plot([0, 1], [0, 1], color='black', linestyle=':', label='Chance Level')\n",
    "\n",
    "plt.xlabel('False Positive Rate')\n",
    "plt.ylabel('True Positive Rate')\n",
    "plt.title('ROC Curve Comparison')\n",
    "plt.legend()\n",
    "plt.grid(True)\n",
    "plt.show()"
   ]
  },
  {
   "cell_type": "code",
   "execution_count": null,
   "id": "c83a5c34-9174-4e67-8433-943e4f890ed1",
   "metadata": {},
   "outputs": [],
   "source": [
    "from sklearn.metrics import roc_curve, auc, RocCurveDisplay\n",
    "import matplotlib.pyplot as plt\n",
    "model = XGBClassifier(eval_metric='logloss')\n",
    "model.fit(x_train, y_train)\n",
    "\n",
    "# Predict probabilities\n",
    "y_proba = model.predict_proba(x_test)[:, 1]  # Probabilities for the positive class\n",
    "fpr, tpr, thresholds = roc_curve(y_test, y_proba)\n",
    "roc_auc = auc(fpr, tpr)\n",
    "plt.figure()\n",
    "plt.plot(fpr, tpr, color='blue', label=f'ROC curve (AUC = {roc_auc:.2f})')\n",
    "plt.plot([0, 1], [0, 1], color='gray', linestyle='--')  # Diagonal line\n",
    "plt.xlabel('False Positive Rate')\n",
    "plt.ylabel('True Positive Rate')\n",
    "plt.title('ROC Curve - XGBoost')\n",
    "plt.legend(loc='lower right')\n",
    "plt.grid(True)\n",
    "plt.show()"
   ]
  },
  {
   "cell_type": "markdown",
   "id": "d6dc89d8-5b0a-4114-a2d1-5368d153191a",
   "metadata": {},
   "source": [
    "Conclusion:\n",
    "We further proceed to test the object that we saved using joblib, and create a dataframe of predicted values –"
   ]
  },
  {
   "cell_type": "code",
   "execution_count": 203,
   "id": "d754f77a-b4e9-46a3-b032-7c0843ef570e",
   "metadata": {},
   "outputs": [],
   "source": [
    "loaded_model = joblib.load('census_income.obj')\n",
    "predictions = loaded_model.predict(x_test)"
   ]
  },
  {
   "cell_type": "code",
   "execution_count": 205,
   "id": "8d1da18f-6c9f-48ae-bb6a-7db421305199",
   "metadata": {},
   "outputs": [
    {
     "data": {
      "text/plain": [
       "0.8710161741622876"
      ]
     },
     "execution_count": 205,
     "metadata": {},
     "output_type": "execute_result"
    }
   ],
   "source": [
    "loaded_model = joblib.load('census_income.obj')\n",
    "predictions = loaded_model.predict(x_test)\n",
    "accuracy_score(y_test,predictions)"
   ]
  },
  {
   "cell_type": "markdown",
   "id": "6bdb4aec-eaef-4b5a-9457-3acb9c6ade79",
   "metadata": {},
   "source": [
    "Following are the results that we achieve, with an accuracy of 87.7%."
   ]
  },
  {
   "cell_type": "code",
   "execution_count": 208,
   "id": "9d493792-f00a-497b-b9c8-79ebe7b8e3dc",
   "metadata": {},
   "outputs": [
    {
     "name": "stdout",
     "output_type": "stream",
     "text": [
      "       Actual  predicted\n",
      "38455       0          0\n",
      "14731       0          0\n",
      "23401       0          0\n",
      "35536       1          1\n",
      "5422        0          0\n",
      "...       ...        ...\n",
      "43320       0          0\n",
      "18605       0          0\n",
      "18097       0          0\n",
      "33874       0          0\n",
      "39604       0          1\n",
      "\n",
      "[14653 rows x 2 columns]\n"
     ]
    }
   ],
   "source": [
    "predicted_values=pd.DataFrame({'Actual':y_test,'predicted':predictions})\n",
    "print(predicted_values)"
   ]
  },
  {
   "cell_type": "markdown",
   "id": "3d4bf30a-ff84-41a9-8a6d-7d33cabd7e14",
   "metadata": {},
   "source": [
    "This marks the end of our process; we have successfully trained\n",
    "our model to predict the income of a person, with an accuracy of ~88%.\n",
    "\n",
    "We moved step by step, analyzing, cleaning and modeling the data, and applied various machine learning models to achieve the desired predictions.\n",
    "We also tuned the model to improve the accuracy, and were able to achieve a model with quite a good accuracy."
   ]
  },
  {
   "cell_type": "code",
   "execution_count": 211,
   "id": "1d443d91-8a35-4979-ba0c-da8859d5869e",
   "metadata": {},
   "outputs": [
    {
     "name": "stdout",
     "output_type": "stream",
     "text": [
      "Random Prediction: ROC AUC=0.500\n",
      "Naive Bayes: ROC AUC=0.915\n"
     ]
    },
    {
     "data": {
      "image/png": "[encoded data removed]",
      "text/plain": [
       "<Figure size 800x600 with 1 Axes>"
      ]
     },
     "metadata": {},
     "output_type": "display_data"
    }
   ],
   "source": [
    "from sklearn.metrics import roc_auc_score, roc_curve\n",
    "import matplotlib.pyplot as plt\n",
    "\n",
    "# Predict probabilities\n",
    "nb_probs = model.predict_proba(x_test)[:, 1]\n",
    "\n",
    "# Baseline (random guess)\n",
    "ns_probs = [0 for _ in range(len(y_test))]\n",
    "\n",
    "# AUC Scores\n",
    "ns_auc = roc_auc_score(y_test, ns_probs)\n",
    "nb_auc = roc_auc_score(y_test, nb_probs)\n",
    "print('Random Prediction: ROC AUC=%.3f' % (ns_auc))\n",
    "print('Naive Bayes: ROC AUC=%.3f' % (nb_auc))\n",
    "\n",
    "# ROC Curves\n",
    "ns_fpr, ns_tpr, _ = roc_curve(y_test, ns_probs)\n",
    "nb_fpr, nb_tpr, _ = roc_curve(y_test, nb_probs)\n",
    "\n",
    "# Plot\n",
    "plt.figure(figsize=(8, 6))\n",
    "plt.plot(ns_fpr, ns_tpr, linestyle='--', color='gray', label='Random: AUC = %.3f' % ns_auc)\n",
    "plt.plot(nb_fpr, nb_tpr, linestyle='-', color='blue', label='XGBoost: AUC = %.3f' % nb_auc)\n",
    "plt.plot([0, 1], [0, 1], color='black', linestyle=':', label='Chance Level')\n",
    "\n",
    "plt.xlabel('False Positive Rate')\n",
    "plt.ylabel('True Positive Rate')\n",
    "plt.title('ROC Curve Comparison')\n",
    "plt.legend()\n",
    "plt.grid(True)\n",
    "plt.show()"
   ]
  },
  {
   "cell_type": "code",
   "execution_count": 216,
   "id": "f20bf2e6-cf53-4b58-a2ef-567cf467f8fe",
   "metadata": {},
   "outputs": [
    {
     "name": "stdout",
     "output_type": "stream",
     "text": [
      "                 MODEL  ACCURACY     PRECISION        RECALL  ROC SCORE\n",
      "0  Logistic Regression   82.9523  0.860, 0.685  0.929, 0.503      0.876\n",
      "1                  SVM   84.2285  0.869, 0.718  0.935, 0.537      0.879\n",
      "2        Random Forest   85.8391  0.887, 0.739  0.934, 0.610      0.904\n",
      "3              XGBoost   87.1016  0.895, 0.771  0.942, 0.638      0.925\n",
      "4       Neural Network   84.4946  0.883, 0.695  0.919, 0.602      0.901\n"
     ]
    },
    {
     "name": "stderr",
     "output_type": "stream",
     "text": [
      "C:\\Users\\19736\\anaconda3\\Lib\\site-packages\\sklearn\\neural_network\\_multilayer_perceptron.py:686: ConvergenceWarning: Stochastic Optimizer: Maximum iterations (200) reached and the optimization hasn't converged yet.\n",
      "  warnings.warn(\n"
     ]
    }
   ],
   "source": [
    "\n",
    "from sklearn.metrics import accuracy_score, precision_score, recall_score, roc_auc_score\n",
    "models = {\n",
    "    \"Logistic Regression\": LogisticRegression(),\n",
    "    \"SVM\": SVC(probability=True),\n",
    "    \"Random Forest\": RandomForestClassifier(),\n",
    "    \"XGBoost\": XGBClassifier(eval_metric='logloss'),\n",
    "    \"Neural Network\": MLPClassifier()\n",
    "}\n",
    "results = []\n",
    "\n",
    "for name, model in models.items():\n",
    "    model.fit(x_train, y_train)\n",
    "    y_pred = model.predict(x_test)\n",
    "    y_proba = model.predict_proba(x_test)[:, 1]  # For ROC AUC\n",
    "\n",
    "    acc = accuracy_score(y_test, y_pred) * 100\n",
    "    prec_0 = precision_score(y_test, y_pred, pos_label=0)\n",
    "    prec_1 = precision_score(y_test, y_pred, pos_label=1)\n",
    "    rec_0 = recall_score(y_test, y_pred, pos_label=0)\n",
    "    rec_1 = recall_score(y_test, y_pred, pos_label=1)\n",
    "    roc = roc_auc_score(y_test, y_proba)\n",
    "\n",
    "    results.append({\n",
    "        \"MODEL\": name,\n",
    "        \"ACCURACY\": round(acc, 4),\n",
    "        \"PRECISION\": f\"{prec_0:.3f}, {prec_1:.3f}\",\n",
    "        \"RECALL\": f\"{rec_0:.3f}, {rec_1:.3f}\",\n",
    "        \"ROC SCORE\": round(roc, 3)\n",
    "    })\n",
    "df_results = pd.DataFrame(results)\n",
    "print(df_results)"
   ]
  },
  {
   "cell_type": "markdown",
   "id": "0d90c7d1-1ffb-4d46-a74b-9113f93939e5",
   "metadata": {},
   "source": [
    "1. Accuracy\n",
    " Highest: XGBoost (87.10%)\n",
    "\n",
    "Followed by: Random Forest (85.84%), Neural Net (84.49%)\n",
    "\n",
    "2. Precision\n",
    "Positive class precision is highest for XGBoost (0.771).\n",
    "\n",
    "Meaning: When XGBoost predicts \"positive\", it’s more likely to be correct.\n",
    "\n",
    "3. Recall\n",
    "Positive class recall is highest for XGBoost (0.638).\n",
    "\n",
    "Meaning: XGBoost detects more true positives than the others.\n",
    "\n",
    "4. ROC AUC (Overall discrimination ability)\n",
    " Highest: XGBoost (0.925) → Indicates excellent separation between classes.\n",
    " Best Overall Model: XGBoost\n",
    " Why XGBoost is Best:\n",
    "Highest accuracy.\n",
    "\n",
    "Best precision and recall for the positive class.\n",
    "\n",
    "Best ROC AUC score (0.925) → great at ranking positive vs negative.\n",
    "\"Based on the current evaluation metrics, XGBoost is the top-performing model across all key indicators—accuracy, precision, recall, and ROC AUC. It would be the recommended model for deployment unless there are constraints like interpretability, training time, or model complexity.\""
   ]
  },
  {
   "cell_type": "code",
   "execution_count": 217,
   "id": "c1ce08a3-7e20-4413-b4f2-7b4ae5d53c48",
   "metadata": {},
   "outputs": [
    {
     "name": "stderr",
     "output_type": "stream",
     "text": [
      "C:\\Users\\19736\\anaconda3\\Lib\\site-packages\\xgboost\\training.py:183: UserWarning: [15:40:00] WARNING: C:\\actions-runner\\_work\\xgboost\\xgboost\\src\\learner.cc:738: \n",
      "Parameters: { \"use_label_encoder\" } are not used.\n",
      "\n",
      "  bst.update(dtrain, iteration=i, fobj=obj)\n"
     ]
    },
    {
     "name": "stdout",
     "output_type": "stream",
     "text": [
      "                 Model  Train Accuracy  Test Accuracy  Difference  \\\n",
      "0  Logistic Regression        0.834654       0.828977    0.005677   \n",
      "1                  SVM        0.855802       0.843991    0.011811   \n",
      "2        Random Forest        0.999854       0.853955    0.145899   \n",
      "3              XGBoost        0.901869       0.869720    0.032150   \n",
      "4       Neural Network        0.867033       0.845356    0.021677   \n",
      "\n",
      "               Confusion Matrix  \\\n",
      "0  [[10346, 763], [1743, 1801]]   \n",
      "1  [[10462, 647], [1639, 1905]]   \n",
      "2  [[10329, 780], [1360, 2184]]   \n",
      "3  [[10444, 665], [1244, 2300]]   \n",
      "4  [[10232, 877], [1389, 2155]]   \n",
      "\n",
      "                               Classification Report  \n",
      "0                precision    recall  f1-score   ...  \n",
      "1                precision    recall  f1-score   ...  \n",
      "2                precision    recall  f1-score   ...  \n",
      "3                precision    recall  f1-score   ...  \n",
      "4                precision    recall  f1-score   ...  \n"
     ]
    }
   ],
   "source": [
    "# Split data\n",
    "x_train, x_test, y_train, y_test = train_test_split(x, y, test_size=0.3, random_state=42)\n",
    "\n",
    "# Models with names\n",
    "models = [\n",
    "    ('Logistic Regression', LogisticRegression(max_iter=1000)),\n",
    "    ('SVM', SVC()),\n",
    "    ('Random Forest', RandomForestClassifier()),\n",
    "    ('XGBoost', XGBClassifier(use_label_encoder=False, eval_metric='logloss')),\n",
    "    ('Neural Network', MLPClassifier(max_iter=1000))\n",
    "    ]\n",
    "\n",
    "# Store results\n",
    "results = []\n",
    "\n",
    "for name, model in models:\n",
    "    model.fit(x_train, y_train)\n",
    "    y_pred = model.predict(x_test)\n",
    "    \n",
    "    train_acc = accuracy_score(y_train, model.predict(x_train))\n",
    "    test_acc = accuracy_score(y_test, y_pred)\n",
    "    diff = abs(train_acc - test_acc)\n",
    "    \n",
    "    results.append({\n",
    "        'Model': name,\n",
    "        'Train Accuracy': train_acc,\n",
    "        'Test Accuracy': test_acc,\n",
    "        'Difference': diff,\n",
    "        'Confusion Matrix': confusion_matrix(y_test, y_pred),\n",
    "        'Classification Report': classification_report(y_test, y_pred, output_dict=False)\n",
    "    })\n",
    "\n",
    "# Create DataFrame\n",
    "results_df = pd.DataFrame(results)\n",
    "print(results_df)\n",
    "\n",
    "# Display sorted by Test Accuracy\n",
    "#print(results_df[['Model', 'Train Accuracy', 'Test Accuracy', 'Difference']].sort_values(by='Test Accuracy', ascending=False))"
   ]
  },
  {
   "cell_type": "code",
   "execution_count": null,
   "id": "21c1905f-cfaf-4353-887a-216cb0415ff1",
   "metadata": {},
   "outputs": [],
   "source": []
  }
 ],
 "metadata": {
  "kernelspec": {
   "display_name": "Python [conda env:base] *",
   "language": "python",
   "name": "conda-base-py"
  },
  "language_info": {
   "codemirror_mode": {
    "name": "ipython",
    "version": 3
   },
   "file_extension": ".py",
   "mimetype": "text/x-python",
   "name": "python",
   "nbconvert_exporter": "python",
   "pygments_lexer": "ipython3",
   "version": "3.11.7"
  }
 },
 "nbformat": 4,
 "nbformat_minor": 5
}
